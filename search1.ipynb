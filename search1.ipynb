{
 "cells": [
  {
   "cell_type": "code",
   "execution_count": 1,
   "metadata": {},
   "outputs": [],
   "source": [
    "import numpy as np\n",
    "import pandas as pd\n",
    "import warnings\n",
    "warnings.filterwarnings('ignore')\n",
    "from nltk.corpus import stopwords\n",
    "from gensim.models import Word2Vec\n",
    "from tqdm import tqdm\n",
    "#from tqdm import tqdm_notebook as tqdm\n",
    "import re\n",
    "import sys"
   ]
  },
  {
   "cell_type": "code",
   "execution_count": 2,
   "metadata": {},
   "outputs": [
    {
     "name": "stdout",
     "output_type": "stream",
     "text": [
      "<class 'pandas.core.frame.DataFrame'>\n",
      "RangeIndex: 739351 entries, 0 to 739350\n",
      "Data columns (total 5 columns):\n",
      "url      739351 non-null object\n",
      "title    739351 non-null object\n",
      "text     739346 non-null object\n",
      "topic    739148 non-null object\n",
      "tags     712837 non-null object\n",
      "dtypes: object(5)\n",
      "memory usage: 28.2+ MB\n"
     ]
    }
   ],
   "source": [
    "news = pd.read_csv('corpus-of-russian-news-articles-from-lenta/lenta-ru-news.csv')\n",
    "news.info(verbose=True)"
   ]
  },
  {
   "cell_type": "code",
   "execution_count": 3,
   "metadata": {},
   "outputs": [],
   "source": [
    "mystopwords = stopwords.words('russian') + ['это','наш','тыс','млн','млрд','также','т','д','я','на','в','..'\\\n",
    "                                            ,'спб','хотя','usd','это','сам','себя','чтоть','весь','кто',\\\n",
    "                                           'который','самый','тот','такой','один','вообще','ваш','мой',\\\n",
    "                                           'очень','мы','ооо','зао','кб','мочь','мой','ваш','срок',\\\n",
    "                                           'тд','тп','сч','сб','вс','тк','с','от','по']"
   ]
  },
  {
   "cell_type": "code",
   "execution_count": 4,
   "metadata": {},
   "outputs": [],
   "source": [
    "### Предобработка\n",
    "def clean_str(s):\n",
    "    try:\n",
    "        # замена \\xa0 на пробел\n",
    "        s = s.replace('\\xa0', ' ')\n",
    "        # удаляем спецсимволы\n",
    "        s = re.sub(r\"[\\d\\.\\,\\-\\—\\%\\№\\\"\\(\\)\\[\\]\\«\\»\\:\\;]\", \"\", s)\n",
    "        # нижний регистр\n",
    "        s = s.lower()\n",
    "    except:\n",
    "        print (s)\n",
    "    return s"
   ]
  },
  {
   "cell_type": "code",
   "execution_count": null,
   "metadata": {},
   "outputs": [
    {
     "name": "stdout",
     "output_type": "stream",
     "text": [
      "<class 'pandas.core.frame.DataFrame'>\n",
      "RangeIndex: 739351 entries, 0 to 739350\n",
      "Data columns (total 5 columns):\n",
      "url      739351 non-null object\n",
      "title    739351 non-null object\n",
      "text     739346 non-null object\n",
      "topic    739148 non-null object\n",
      "tags     712837 non-null object\n",
      "dtypes: object(5)\n",
      "memory usage: 28.2+ MB\n"
     ]
    }
   ],
   "source": [
    "news.info(verbose=True)"
   ]
  },
  {
   "cell_type": "code",
   "execution_count": null,
   "metadata": {},
   "outputs": [
    {
     "name": "stderr",
     "output_type": "stream",
     "text": [
      " 21%|##1       | 156654/739351 [02:07<08:31, 1140.23it/s]"
     ]
    },
    {
     "name": "stdout",
     "output_type": "stream",
     "text": [
      "nan\n",
      "empty/short line: 156671\n"
     ]
    },
    {
     "name": "stderr",
     "output_type": "stream",
     "text": [
      " 65%|######4   | 479445/739351 [06:53<03:23, 1278.91it/s]"
     ]
    },
    {
     "name": "stdout",
     "output_type": "stream",
     "text": [
      "empty/short line: 479563\n"
     ]
    },
    {
     "name": "stderr",
     "output_type": "stream",
     "text": [
      " 65%|######5   | 482674/739351 [06:55<03:24, 1254.73it/s]"
     ]
    },
    {
     "name": "stdout",
     "output_type": "stream",
     "text": [
      "empty/short line: 482745\n"
     ]
    },
    {
     "name": "stderr",
     "output_type": "stream",
     "text": [
      " 66%|######5   | 485249/739351 [06:57<03:20, 1265.90it/s]"
     ]
    },
    {
     "name": "stdout",
     "output_type": "stream",
     "text": [
      "empty/short line: 485331\n"
     ]
    },
    {
     "name": "stderr",
     "output_type": "stream",
     "text": [
      " 66%|######5   | 487686/739351 [06:59<03:17, 1275.64it/s]"
     ]
    },
    {
     "name": "stdout",
     "output_type": "stream",
     "text": [
      "empty/short line: 487735\n"
     ]
    },
    {
     "name": "stderr",
     "output_type": "stream",
     "text": [
      " 73%|#######2  | 538262/739351 [07:40<02:37, 1275.21it/s]"
     ]
    },
    {
     "name": "stdout",
     "output_type": "stream",
     "text": [
      "empty/short line: 538384\n"
     ]
    },
    {
     "name": "stderr",
     "output_type": "stream",
     "text": [
      " 74%|#######3  | 546513/739351 [07:46<02:36, 1235.31it/s]"
     ]
    },
    {
     "name": "stdout",
     "output_type": "stream",
     "text": [
      "empty/short line: 546594\n"
     ]
    },
    {
     "name": "stderr",
     "output_type": "stream",
     "text": [
      " 74%|#######3  | 546639/739351 [07:46<02:35, 1242.61it/s]"
     ]
    },
    {
     "name": "stdout",
     "output_type": "stream",
     "text": [
      "empty/short line: 546651\n"
     ]
    },
    {
     "name": "stderr",
     "output_type": "stream",
     "text": [
      " 75%|#######5  | 554918/739351 [07:53<02:30, 1222.93it/s]"
     ]
    },
    {
     "name": "stdout",
     "output_type": "stream",
     "text": [
      "empty/short line: 554970\n"
     ]
    },
    {
     "name": "stderr",
     "output_type": "stream",
     "text": [
      " 76%|#######5  | 561049/739351 [07:58<02:22, 1251.30it/s]"
     ]
    },
    {
     "name": "stdout",
     "output_type": "stream",
     "text": [
      "empty/short line: 561133\n"
     ]
    },
    {
     "name": "stderr",
     "output_type": "stream",
     "text": [
      " 76%|#######5  | 561801/739351 [07:59<02:24, 1232.37it/s]"
     ]
    },
    {
     "name": "stdout",
     "output_type": "stream",
     "text": [
      "empty/short line: 561824\n"
     ]
    },
    {
     "name": "stderr",
     "output_type": "stream",
     "text": [
      " 76%|#######6  | 562181/739351 [07:59<02:22, 1242.44it/s]"
     ]
    },
    {
     "name": "stdout",
     "output_type": "stream",
     "text": [
      "empty/short line: 562238\n",
      "empty/short line: 562282\n"
     ]
    },
    {
     "name": "stderr",
     "output_type": "stream",
     "text": [
      " 76%|#######6  | 562560/739351 [07:59<02:24, 1226.34it/s]"
     ]
    },
    {
     "name": "stdout",
     "output_type": "stream",
     "text": [
      "empty/short line: 562676\n"
     ]
    },
    {
     "name": "stderr",
     "output_type": "stream",
     "text": [
      " 78%|#######8  | 579423/739351 [08:13<02:08, 1248.14it/s]"
     ]
    },
    {
     "name": "stdout",
     "output_type": "stream",
     "text": [
      "empty/short line: 579538\n",
      "empty/short line: 579543\n"
     ]
    },
    {
     "name": "stderr",
     "output_type": "stream",
     "text": [
      " 78%|#######8  | 579548/739351 [08:13<02:09, 1233.90it/s]"
     ]
    },
    {
     "name": "stdout",
     "output_type": "stream",
     "text": [
      "empty/short line: 579562\n",
      "empty/short line: 579608\n",
      "empty/short line: 579656\n"
     ]
    },
    {
     "name": "stderr",
     "output_type": "stream",
     "text": [
      " 78%|#######8  | 579673/739351 [08:13<02:10, 1220.54it/s]"
     ]
    },
    {
     "name": "stdout",
     "output_type": "stream",
     "text": [
      "empty/short line: 579686\n",
      "empty/short line: 579740\n",
      "empty/short line: 579789\n"
     ]
    },
    {
     "name": "stderr",
     "output_type": "stream",
     "text": [
      " 78%|#######8  | 579796/739351 [08:13<02:12, 1205.38it/s]"
     ]
    },
    {
     "name": "stdout",
     "output_type": "stream",
     "text": [
      "empty/short line: 579839\n",
      "empty/short line: 579858\n",
      "empty/short line: 579875\n"
     ]
    },
    {
     "name": "stderr",
     "output_type": "stream",
     "text": [
      " 78%|#######8  | 579917/739351 [08:13<02:16, 1171.71it/s]"
     ]
    },
    {
     "name": "stdout",
     "output_type": "stream",
     "text": [
      "empty/short line: 579982\n",
      "empty/short line: 579999\n",
      "empty/short line: 580010\n"
     ]
    },
    {
     "name": "stderr",
     "output_type": "stream",
     "text": [
      " 78%|#######8  | 580151/739351 [08:14<02:17, 1157.84it/s]"
     ]
    },
    {
     "name": "stdout",
     "output_type": "stream",
     "text": [
      "empty/short line: 580258\n"
     ]
    },
    {
     "name": "stderr",
     "output_type": "stream",
     "text": [
      " 78%|#######8  | 580278/739351 [08:14<02:15, 1172.87it/s]"
     ]
    },
    {
     "name": "stdout",
     "output_type": "stream",
     "text": [
      "empty/short line: 580290\n",
      "empty/short line: 580310\n"
     ]
    },
    {
     "name": "stderr",
     "output_type": "stream",
     "text": [
      " 79%|#######8  | 580396/739351 [08:14<02:15, 1175.00it/s]"
     ]
    },
    {
     "name": "stdout",
     "output_type": "stream",
     "text": [
      "empty/short line: 580432\n"
     ]
    },
    {
     "name": "stderr",
     "output_type": "stream",
     "text": [
      " 79%|#######8  | 580514/739351 [08:14<02:15, 1176.50it/s]"
     ]
    },
    {
     "name": "stdout",
     "output_type": "stream",
     "text": [
      "empty/short line: 580561\n",
      "empty/short line: 580585\n",
      "empty/short line: 580618\n"
     ]
    },
    {
     "name": "stderr",
     "output_type": "stream",
     "text": [
      " 79%|#######8  | 580632/739351 [08:14<02:16, 1160.18it/s]"
     ]
    },
    {
     "name": "stdout",
     "output_type": "stream",
     "text": [
      "empty/short line: 580643\n"
     ]
    },
    {
     "name": "stderr",
     "output_type": "stream",
     "text": [
      " 79%|#######8  | 580755/739351 [08:14<02:15, 1166.84it/s]"
     ]
    },
    {
     "name": "stdout",
     "output_type": "stream",
     "text": [
      "empty/short line: 580827\n",
      "empty/short line: 580866\n"
     ]
    },
    {
     "name": "stderr",
     "output_type": "stream",
     "text": [
      " 79%|#######8  | 580875/739351 [08:14<02:14, 1176.59it/s]"
     ]
    },
    {
     "name": "stdout",
     "output_type": "stream",
     "text": [
      "empty/short line: 580877\n"
     ]
    },
    {
     "name": "stderr",
     "output_type": "stream",
     "text": [
      " 79%|#######8  | 580993/739351 [08:14<02:18, 1143.38it/s]"
     ]
    },
    {
     "name": "stdout",
     "output_type": "stream",
     "text": [
      "empty/short line: 581079\n"
     ]
    },
    {
     "name": "stderr",
     "output_type": "stream",
     "text": [
      " 79%|#######8  | 581108/739351 [08:14<02:18, 1145.36it/s]"
     ]
    },
    {
     "name": "stdout",
     "output_type": "stream",
     "text": [
      "empty/short line: 581143\n",
      "empty/short line: 581194\n"
     ]
    },
    {
     "name": "stderr",
     "output_type": "stream",
     "text": [
      " 79%|#######8  | 581231/739351 [08:14<02:17, 1153.06it/s]"
     ]
    },
    {
     "name": "stdout",
     "output_type": "stream",
     "text": [
      "empty/short line: 581237\n",
      "empty/short line: 581305\n",
      "empty/short line: 581324\n"
     ]
    },
    {
     "name": "stderr",
     "output_type": "stream",
     "text": [
      " 79%|#######8  | 581469/739351 [08:15<02:16, 1160.33it/s]"
     ]
    },
    {
     "name": "stdout",
     "output_type": "stream",
     "text": [
      "empty/short line: 581589\n"
     ]
    },
    {
     "name": "stderr",
     "output_type": "stream",
     "text": [
      " 79%|#######8  | 581591/739351 [08:15<02:13, 1177.61it/s]"
     ]
    },
    {
     "name": "stdout",
     "output_type": "stream",
     "text": [
      "empty/short line: 581697\n"
     ]
    },
    {
     "name": "stderr",
     "output_type": "stream",
     "text": [
      " 79%|#######8  | 581709/739351 [08:15<02:13, 1178.33it/s]"
     ]
    },
    {
     "name": "stdout",
     "output_type": "stream",
     "text": [
      "empty/short line: 581729\n",
      "empty/short line: 581762\n",
      "empty/short line: 581772\n"
     ]
    },
    {
     "name": "stderr",
     "output_type": "stream",
     "text": [
      " 79%|#######8  | 581827/739351 [08:15<02:16, 1158.00it/s]"
     ]
    },
    {
     "name": "stdout",
     "output_type": "stream",
     "text": [
      "empty/short line: 581859\n",
      "empty/short line: 581881\n",
      "empty/short line: 581942\n"
     ]
    },
    {
     "name": "stderr",
     "output_type": "stream",
     "text": [
      " 79%|#######8  | 581945/739351 [08:15<02:17, 1147.53it/s]"
     ]
    },
    {
     "name": "stdout",
     "output_type": "stream",
     "text": [
      "empty/short line: 582046\n"
     ]
    },
    {
     "name": "stderr",
     "output_type": "stream",
     "text": [
      " 79%|#######8  | 582060/739351 [08:15<02:19, 1131.32it/s]"
     ]
    },
    {
     "name": "stdout",
     "output_type": "stream",
     "text": [
      "empty/short line: 582073\n"
     ]
    },
    {
     "name": "stderr",
     "output_type": "stream",
     "text": [
      " 79%|#######8  | 582290/739351 [08:15<02:17, 1141.61it/s]"
     ]
    },
    {
     "name": "stdout",
     "output_type": "stream",
     "text": [
      "empty/short line: 582372\n"
     ]
    },
    {
     "name": "stderr",
     "output_type": "stream",
     "text": [
      " 79%|#######8  | 582412/739351 [08:15<02:14, 1164.05it/s]"
     ]
    },
    {
     "name": "stdout",
     "output_type": "stream",
     "text": [
      "empty/short line: 582481\n"
     ]
    },
    {
     "name": "stderr",
     "output_type": "stream",
     "text": [
      " 79%|#######8  | 582531/739351 [08:16<02:13, 1171.72it/s]"
     ]
    },
    {
     "name": "stdout",
     "output_type": "stream",
     "text": [
      "empty/short line: 582553\n",
      "empty/short line: 582610\n",
      "empty/short line: 582635\n"
     ]
    },
    {
     "name": "stderr",
     "output_type": "stream",
     "text": [
      " 79%|#######8  | 583024/739351 [08:16<02:10, 1201.04it/s]"
     ]
    },
    {
     "name": "stdout",
     "output_type": "stream",
     "text": [
      "empty/short line: 583073\n"
     ]
    },
    {
     "name": "stderr",
     "output_type": "stream",
     "text": [
      " 79%|#######8  | 583150/739351 [08:16<02:10, 1200.73it/s]"
     ]
    },
    {
     "name": "stdout",
     "output_type": "stream",
     "text": [
      "empty/short line: 583184\n",
      "empty/short line: 583259\n"
     ]
    },
    {
     "name": "stderr",
     "output_type": "stream",
     "text": [
      " 79%|#######8  | 583271/739351 [08:16<02:09, 1203.49it/s]"
     ]
    },
    {
     "name": "stdout",
     "output_type": "stream",
     "text": [
      "empty/short line: 583323\n",
      "empty/short line: 583360\n"
     ]
    },
    {
     "name": "stderr",
     "output_type": "stream",
     "text": [
      " 79%|#######8  | 583392/739351 [08:16<02:11, 1187.69it/s]"
     ]
    },
    {
     "name": "stdout",
     "output_type": "stream",
     "text": [
      "empty/short line: 583438\n"
     ]
    },
    {
     "name": "stderr",
     "output_type": "stream",
     "text": [
      " 79%|#######9  | 584519/739351 [08:17<02:05, 1233.45it/s]"
     ]
    },
    {
     "name": "stdout",
     "output_type": "stream",
     "text": [
      "nan\n",
      "empty/short line: 584521\n"
     ]
    },
    {
     "name": "stderr",
     "output_type": "stream",
     "text": [
      " 79%|#######9  | 585255/739351 [08:18<02:09, 1188.52it/s]"
     ]
    },
    {
     "name": "stdout",
     "output_type": "stream",
     "text": [
      "nan\n",
      "empty/short line: 585302\n"
     ]
    },
    {
     "name": "stderr",
     "output_type": "stream",
     "text": [
      " 79%|#######9  | 585867/739351 [08:18<02:06, 1215.77it/s]"
     ]
    },
    {
     "name": "stdout",
     "output_type": "stream",
     "text": [
      "empty/short line: 585947\n"
     ]
    },
    {
     "name": "stderr",
     "output_type": "stream",
     "text": [
      " 79%|#######9  | 585992/739351 [08:18<02:06, 1208.07it/s]"
     ]
    },
    {
     "name": "stdout",
     "output_type": "stream",
     "text": [
      "nan\n",
      "empty/short line: 586050\n"
     ]
    },
    {
     "name": "stderr",
     "output_type": "stream",
     "text": [
      " 80%|#######9  | 588253/739351 [08:20<02:01, 1238.72it/s]"
     ]
    },
    {
     "name": "stdout",
     "output_type": "stream",
     "text": [
      "nan\n",
      "empty/short line: 588317\n"
     ]
    },
    {
     "name": "stderr",
     "output_type": "stream",
     "text": [
      " 83%|########3 | 613905/739351 [08:44<01:49, 1145.89it/s]"
     ]
    },
    {
     "name": "stdout",
     "output_type": "stream",
     "text": [
      "empty/short line: 613929\n"
     ]
    },
    {
     "name": "stderr",
     "output_type": "stream",
     "text": [
      " 83%|########3 | 614368/739351 [08:44<01:51, 1121.72it/s]"
     ]
    },
    {
     "name": "stdout",
     "output_type": "stream",
     "text": [
      "empty/short line: 614465\n"
     ]
    },
    {
     "name": "stderr",
     "output_type": "stream",
     "text": [
      " 83%|########3 | 614481/739351 [08:45<01:56, 1076.02it/s]"
     ]
    },
    {
     "name": "stdout",
     "output_type": "stream",
     "text": [
      "empty/short line: 614489\n",
      "empty/short line: 614557\n"
     ]
    },
    {
     "name": "stderr",
     "output_type": "stream",
     "text": [
      " 83%|########3 | 614598/739351 [08:45<01:54, 1087.22it/s]"
     ]
    },
    {
     "name": "stdout",
     "output_type": "stream",
     "text": [
      "empty/short line: 614654\n"
     ]
    },
    {
     "name": "stderr",
     "output_type": "stream",
     "text": [
      " 83%|########3 | 614714/739351 [08:45<01:52, 1108.08it/s]"
     ]
    },
    {
     "name": "stdout",
     "output_type": "stream",
     "text": [
      "empty/short line: 614753\n",
      "empty/short line: 614763\n",
      "empty/short line: 614779\n"
     ]
    },
    {
     "name": "stderr",
     "output_type": "stream",
     "text": [
      " 83%|########3 | 614939/739351 [08:45<01:54, 1083.79it/s]"
     ]
    },
    {
     "name": "stdout",
     "output_type": "stream",
     "text": [
      "empty/short line: 614963\n",
      "empty/short line: 614975\n",
      "empty/short line: 614987\n"
     ]
    },
    {
     "name": "stderr",
     "output_type": "stream",
     "text": [
      " 83%|########3 | 616541/739351 [08:46<01:48, 1127.58it/s]"
     ]
    },
    {
     "name": "stdout",
     "output_type": "stream",
     "text": [
      "empty/short line: 616651\n"
     ]
    },
    {
     "name": "stderr",
     "output_type": "stream",
     "text": [
      " 83%|########3 | 616655/739351 [08:46<01:50, 1114.68it/s]"
     ]
    },
    {
     "name": "stdout",
     "output_type": "stream",
     "text": [
      "empty/short line: 616756\n"
     ]
    },
    {
     "name": "stderr",
     "output_type": "stream",
     "text": [
      " 83%|########3 | 616767/739351 [08:47<01:49, 1116.27it/s]"
     ]
    },
    {
     "name": "stdout",
     "output_type": "stream",
     "text": [
      "empty/short line: 616805\n",
      "empty/short line: 616816\n",
      "empty/short line: 616873\n"
     ]
    },
    {
     "name": "stderr",
     "output_type": "stream",
     "text": [
      " 83%|########3 | 616879/739351 [08:47<01:52, 1084.92it/s]"
     ]
    },
    {
     "name": "stdout",
     "output_type": "stream",
     "text": [
      "empty/short line: 616889\n",
      "empty/short line: 616932\n",
      "empty/short line: 616972\n"
     ]
    },
    {
     "name": "stderr",
     "output_type": "stream",
     "text": [
      " 83%|########3 | 616988/739351 [08:47<01:52, 1086.44it/s]"
     ]
    },
    {
     "name": "stdout",
     "output_type": "stream",
     "text": [
      "empty/short line: 617014\n",
      "empty/short line: 617028\n",
      "empty/short line: 617034\n",
      "empty/short line: 617070\n"
     ]
    },
    {
     "name": "stderr",
     "output_type": "stream",
     "text": [
      " 83%|########3 | 617097/739351 [08:47<01:54, 1071.47it/s]"
     ]
    },
    {
     "name": "stdout",
     "output_type": "stream",
     "text": [
      "empty/short line: 617108\n",
      "empty/short line: 617117\n",
      "empty/short line: 617124\n",
      "empty/short line: 617129\n",
      "empty/short line: 617150\n"
     ]
    },
    {
     "name": "stderr",
     "output_type": "stream",
     "text": [
      " 83%|########3 | 617311/739351 [08:47<01:57, 1041.02it/s]"
     ]
    },
    {
     "name": "stdout",
     "output_type": "stream",
     "text": [
      "empty/short line: 617349\n",
      "empty/short line: 617369\n",
      "empty/short line: 617375\n"
     ]
    },
    {
     "name": "stderr",
     "output_type": "stream",
     "text": [
      " 84%|########3 | 617417/739351 [08:47<01:56, 1046.64it/s]"
     ]
    },
    {
     "name": "stdout",
     "output_type": "stream",
     "text": [
      "empty/short line: 617418\n",
      "empty/short line: 617430\n",
      "empty/short line: 617431\n",
      "empty/short line: 617444\n",
      "empty/short line: 617450\n",
      "empty/short line: 617459\n",
      "empty/short line: 617465\n",
      "empty/short line: 617473\n"
     ]
    },
    {
     "name": "stderr",
     "output_type": "stream",
     "text": [
      " 84%|########3 | 617629/739351 [08:47<01:56, 1043.25it/s]"
     ]
    },
    {
     "name": "stdout",
     "output_type": "stream",
     "text": [
      "empty/short line: 617694\n",
      "empty/short line: 617708\n",
      "empty/short line: 617720\n",
      "empty/short line: 617733\n"
     ]
    },
    {
     "name": "stderr",
     "output_type": "stream",
     "text": [
      " 84%|########3 | 617734/739351 [08:47<01:56, 1045.27it/s]"
     ]
    },
    {
     "name": "stdout",
     "output_type": "stream",
     "text": [
      "empty/short line: 617739\n",
      "empty/short line: 617758\n",
      "empty/short line: 617767\n",
      "empty/short line: 617778\n",
      "empty/short line: 617784\n",
      "empty/short line: 617809\n",
      "empty/short line: 617825\n"
     ]
    },
    {
     "name": "stderr",
     "output_type": "stream",
     "text": [
      " 84%|########3 | 617839/739351 [08:48<01:57, 1031.26it/s]"
     ]
    },
    {
     "name": "stdout",
     "output_type": "stream",
     "text": [
      "empty/short line: 617852\n",
      "empty/short line: 617893\n",
      "empty/short line: 617914\n",
      "empty/short line: 617940\n"
     ]
    },
    {
     "name": "stderr",
     "output_type": "stream",
     "text": [
      " 84%|########3 | 617943/739351 [08:48<01:57, 1033.87it/s]"
     ]
    },
    {
     "name": "stdout",
     "output_type": "stream",
     "text": [
      "empty/short line: 617953\n",
      "empty/short line: 617970\n",
      "empty/short line: 617975\n",
      "empty/short line: 617989\n",
      "empty/short line: 618017\n",
      "empty/short line: 618046\n"
     ]
    },
    {
     "name": "stderr",
     "output_type": "stream",
     "text": [
      " 84%|########3 | 618047/739351 [08:48<01:58, 1020.46it/s]"
     ]
    },
    {
     "name": "stdout",
     "output_type": "stream",
     "text": [
      "empty/short line: 618065\n",
      "empty/short line: 618069\n",
      "empty/short line: 618086\n",
      "empty/short line: 618095\n"
     ]
    },
    {
     "name": "stderr",
     "output_type": "stream",
     "text": [
      " 84%|########3 | 618150/739351 [08:48<02:00, 1008.27it/s]"
     ]
    },
    {
     "name": "stdout",
     "output_type": "stream",
     "text": [
      "empty/short line: 618175\n",
      "empty/short line: 618221\n"
     ]
    },
    {
     "name": "stderr",
     "output_type": "stream",
     "text": [
      " 84%|########3 | 618260/739351 [08:48<01:57, 1028.34it/s]"
     ]
    },
    {
     "name": "stdout",
     "output_type": "stream",
     "text": [
      "empty/short line: 618278\n",
      "empty/short line: 618285\n",
      "empty/short line: 618288\n",
      "empty/short line: 618355\n"
     ]
    },
    {
     "name": "stderr",
     "output_type": "stream",
     "text": [
      " 84%|########3 | 618367/739351 [08:48<01:57, 1025.54it/s]"
     ]
    },
    {
     "name": "stdout",
     "output_type": "stream",
     "text": [
      "empty/short line: 618396\n",
      "empty/short line: 618402\n",
      "empty/short line: 618411\n"
     ]
    },
    {
     "name": "stderr",
     "output_type": "stream",
     "text": [
      " 84%|########3 | 618470/739351 [08:48<01:57, 1026.87it/s]"
     ]
    },
    {
     "name": "stdout",
     "output_type": "stream",
     "text": [
      "empty/short line: 618487\n"
     ]
    },
    {
     "name": "stderr",
     "output_type": "stream",
     "text": [
      " 84%|########3 | 618573/739351 [08:48<02:02, 983.64it/s] "
     ]
    },
    {
     "name": "stdout",
     "output_type": "stream",
     "text": [
      "empty/short line: 618589\n",
      "empty/short line: 618595\n",
      "empty/short line: 618620\n",
      "empty/short line: 618658\n",
      "empty/short line: 618666\n"
     ]
    },
    {
     "name": "stderr",
     "output_type": "stream",
     "text": [
      " 84%|########3 | 618672/739351 [08:48<02:02, 985.54it/s]"
     ]
    },
    {
     "name": "stdout",
     "output_type": "stream",
     "text": [
      "empty/short line: 618681\n",
      "empty/short line: 618686\n",
      "empty/short line: 618687\n",
      "empty/short line: 618692\n",
      "empty/short line: 618696\n"
     ]
    },
    {
     "name": "stderr",
     "output_type": "stream",
     "text": [
      " 84%|########3 | 618780/739351 [08:49<01:59, 1012.09it/s]"
     ]
    },
    {
     "name": "stdout",
     "output_type": "stream",
     "text": [
      "empty/short line: 618883\n"
     ]
    },
    {
     "name": "stderr",
     "output_type": "stream",
     "text": [
      " 84%|########3 | 618884/739351 [08:49<01:59, 1005.51it/s]"
     ]
    },
    {
     "name": "stdout",
     "output_type": "stream",
     "text": [
      "empty/short line: 618965\n",
      "empty/short line: 618969\n"
     ]
    },
    {
     "name": "stderr",
     "output_type": "stream",
     "text": [
      " 84%|########3 | 618985/739351 [08:49<02:01, 992.02it/s] "
     ]
    },
    {
     "name": "stdout",
     "output_type": "stream",
     "text": [
      "empty/short line: 618999\n"
     ]
    },
    {
     "name": "stderr",
     "output_type": "stream",
     "text": [
      " 84%|########3 | 619085/739351 [08:49<02:00, 994.40it/s]"
     ]
    },
    {
     "name": "stdout",
     "output_type": "stream",
     "text": [
      "empty/short line: 619137\n",
      "empty/short line: 619150\n",
      "empty/short line: 619157\n",
      "empty/short line: 619167\n",
      "empty/short line: 619174\n"
     ]
    },
    {
     "name": "stderr",
     "output_type": "stream",
     "text": [
      " 84%|########3 | 619185/739351 [08:49<02:04, 964.37it/s]"
     ]
    },
    {
     "name": "stdout",
     "output_type": "stream",
     "text": [
      "empty/short line: 619220\n",
      "empty/short line: 619230\n",
      "empty/short line: 619245\n",
      "empty/short line: 619254\n"
     ]
    },
    {
     "name": "stderr",
     "output_type": "stream",
     "text": [
      " 84%|########3 | 619282/739351 [08:49<02:04, 966.05it/s]"
     ]
    },
    {
     "name": "stdout",
     "output_type": "stream",
     "text": [
      "empty/short line: 619286\n",
      "empty/short line: 619301\n",
      "empty/short line: 619304\n",
      "empty/short line: 619305\n",
      "empty/short line: 619307\n",
      "empty/short line: 619310\n",
      "empty/short line: 619311\n",
      "empty/short line: 619343\n",
      "empty/short line: 619350\n",
      "empty/short line: 619359\n",
      "empty/short line: 619366\n",
      "empty/short line: 619376\n"
     ]
    },
    {
     "name": "stderr",
     "output_type": "stream",
     "text": [
      " 84%|########3 | 619379/739351 [08:49<02:05, 952.98it/s]"
     ]
    },
    {
     "name": "stdout",
     "output_type": "stream",
     "text": [
      "empty/short line: 619394\n",
      "empty/short line: 619454\n",
      "empty/short line: 619463\n",
      "empty/short line: 619470\n"
     ]
    },
    {
     "name": "stderr",
     "output_type": "stream",
     "text": [
      " 84%|########3 | 619478/739351 [08:49<02:06, 949.92it/s]"
     ]
    },
    {
     "name": "stdout",
     "output_type": "stream",
     "text": [
      "empty/short line: 619494\n",
      "empty/short line: 619536\n",
      "empty/short line: 619552\n",
      "empty/short line: 619559\n",
      "empty/short line: 619568\n"
     ]
    },
    {
     "name": "stderr",
     "output_type": "stream",
     "text": [
      " 84%|########3 | 619581/739351 [08:49<02:04, 959.02it/s]"
     ]
    },
    {
     "name": "stdout",
     "output_type": "stream",
     "text": [
      "empty/short line: 619584\n",
      "empty/short line: 619592\n",
      "empty/short line: 619630\n",
      "empty/short line: 619642\n",
      "empty/short line: 619673\n",
      "empty/short line: 619686\n"
     ]
    },
    {
     "name": "stderr",
     "output_type": "stream",
     "text": [
      " 84%|########3 | 619689/739351 [08:49<02:02, 978.88it/s]"
     ]
    },
    {
     "name": "stdout",
     "output_type": "stream",
     "text": [
      "empty/short line: 619693\n",
      "empty/short line: 619699\n"
     ]
    },
    {
     "name": "stderr",
     "output_type": "stream",
     "text": [
      " 84%|########3 | 619995/739351 [08:50<01:59, 995.03it/s]"
     ]
    },
    {
     "name": "stdout",
     "output_type": "stream",
     "text": [
      "empty/short line: 620002\n",
      "empty/short line: 620005\n",
      "empty/short line: 620027\n",
      "empty/short line: 620059\n",
      "empty/short line: 620064\n",
      "empty/short line: 620071\n"
     ]
    },
    {
     "name": "stderr",
     "output_type": "stream",
     "text": [
      " 84%|########3 | 620095/739351 [08:50<01:59, 996.51it/s]"
     ]
    },
    {
     "name": "stdout",
     "output_type": "stream",
     "text": [
      "empty/short line: 620159\n",
      "empty/short line: 620168\n",
      "empty/short line: 620176\n",
      "empty/short line: 620182\n"
     ]
    },
    {
     "name": "stderr",
     "output_type": "stream",
     "text": [
      " 84%|########3 | 620195/739351 [08:50<02:03, 968.57it/s]"
     ]
    },
    {
     "name": "stdout",
     "output_type": "stream",
     "text": [
      "empty/short line: 620232\n",
      "empty/short line: 620285\n",
      "empty/short line: 620292\n"
     ]
    },
    {
     "name": "stderr",
     "output_type": "stream",
     "text": [
      " 84%|########3 | 620406/739351 [08:50<01:58, 1001.05it/s]"
     ]
    },
    {
     "name": "stdout",
     "output_type": "stream",
     "text": [
      "empty/short line: 620490\n",
      "empty/short line: 620516\n"
     ]
    },
    {
     "name": "stderr",
     "output_type": "stream",
     "text": [
      " 84%|########3 | 620518/739351 [08:50<01:56, 1019.87it/s]"
     ]
    },
    {
     "name": "stdout",
     "output_type": "stream",
     "text": [
      "empty/short line: 620583\n",
      "empty/short line: 620605\n",
      "empty/short line: 620609\n"
     ]
    },
    {
     "name": "stderr",
     "output_type": "stream",
     "text": [
      " 84%|########3 | 620621/739351 [08:50<01:56, 1022.89it/s]"
     ]
    },
    {
     "name": "stdout",
     "output_type": "stream",
     "text": [
      "empty/short line: 620633\n",
      "empty/short line: 620643\n",
      "empty/short line: 620713\n"
     ]
    },
    {
     "name": "stderr",
     "output_type": "stream",
     "text": [
      " 84%|########3 | 620724/739351 [08:51<01:57, 1009.94it/s]"
     ]
    },
    {
     "name": "stdout",
     "output_type": "stream",
     "text": [
      "empty/short line: 620727\n",
      "empty/short line: 620745\n",
      "empty/short line: 620796\n",
      "empty/short line: 620822\n"
     ]
    },
    {
     "name": "stderr",
     "output_type": "stream",
     "text": [
      " 84%|########3 | 620826/739351 [08:51<01:58, 998.07it/s] "
     ]
    },
    {
     "name": "stdout",
     "output_type": "stream",
     "text": [
      "empty/short line: 620827\n",
      "empty/short line: 620832\n",
      "empty/short line: 620848\n"
     ]
    },
    {
     "name": "stderr",
     "output_type": "stream",
     "text": [
      " 84%|########3 | 621036/739351 [08:51<01:55, 1026.05it/s]"
     ]
    },
    {
     "name": "stdout",
     "output_type": "stream",
     "text": [
      "empty/short line: 621082\n"
     ]
    },
    {
     "name": "stderr",
     "output_type": "stream",
     "text": [
      " 84%|########4 | 621143/739351 [08:51<01:53, 1038.85it/s]"
     ]
    },
    {
     "name": "stdout",
     "output_type": "stream",
     "text": [
      "empty/short line: 621150\n",
      "empty/short line: 621163\n",
      "empty/short line: 621175\n",
      "empty/short line: 621214\n"
     ]
    },
    {
     "name": "stderr",
     "output_type": "stream",
     "text": [
      " 84%|########4 | 621353/739351 [08:51<01:53, 1042.33it/s]"
     ]
    },
    {
     "name": "stdout",
     "output_type": "stream",
     "text": [
      "empty/short line: 621363\n",
      "empty/short line: 621374\n",
      "empty/short line: 621391\n",
      "empty/short line: 621407\n",
      "empty/short line: 621419\n",
      "empty/short line: 621423\n"
     ]
    },
    {
     "name": "stderr",
     "output_type": "stream",
     "text": [
      " 84%|########4 | 621458/739351 [08:51<01:56, 1014.34it/s]"
     ]
    },
    {
     "name": "stdout",
     "output_type": "stream",
     "text": [
      "empty/short line: 621482\n",
      "empty/short line: 621484\n",
      "empty/short line: 621506\n",
      "empty/short line: 621518\n",
      "empty/short line: 621539\n",
      "empty/short line: 621542\n",
      "empty/short line: 621544\n",
      "empty/short line: 621546\n",
      "empty/short line: 621549\n",
      "empty/short line: 621551\n",
      "empty/short line: 621556\n",
      "empty/short line: 621558\n"
     ]
    },
    {
     "name": "stderr",
     "output_type": "stream",
     "text": [
      " 84%|########4 | 621560/739351 [08:51<02:01, 972.44it/s] "
     ]
    },
    {
     "name": "stdout",
     "output_type": "stream",
     "text": [
      "empty/short line: 621563\n"
     ]
    },
    {
     "name": "stderr",
     "output_type": "stream",
     "text": [
      " 84%|########4 | 621863/739351 [08:52<01:58, 994.59it/s]"
     ]
    },
    {
     "name": "stdout",
     "output_type": "stream",
     "text": [
      "empty/short line: 621868\n",
      "empty/short line: 621944\n",
      "empty/short line: 621949\n"
     ]
    },
    {
     "name": "stderr",
     "output_type": "stream",
     "text": [
      " 84%|########4 | 621963/739351 [08:52<01:59, 981.54it/s]"
     ]
    },
    {
     "name": "stdout",
     "output_type": "stream",
     "text": [
      "empty/short line: 621969\n",
      "empty/short line: 621976\n",
      "empty/short line: 621995\n",
      "empty/short line: 622007\n",
      "empty/short line: 622016\n",
      "empty/short line: 622022\n"
     ]
    },
    {
     "name": "stderr",
     "output_type": "stream",
     "text": [
      " 84%|########4 | 622470/739351 [08:52<01:57, 997.72it/s]"
     ]
    },
    {
     "name": "stdout",
     "output_type": "stream",
     "text": [
      "empty/short line: 622474\n",
      "empty/short line: 622491\n",
      "empty/short line: 622497\n",
      "empty/short line: 622509\n"
     ]
    },
    {
     "name": "stderr",
     "output_type": "stream",
     "text": [
      " 84%|########4 | 622574/739351 [08:52<01:57, 995.54it/s]"
     ]
    },
    {
     "name": "stdout",
     "output_type": "stream",
     "text": [
      "empty/short line: 622583\n",
      "empty/short line: 622600\n",
      "empty/short line: 622616\n",
      "empty/short line: 622637\n",
      "empty/short line: 622670\n"
     ]
    },
    {
     "name": "stderr",
     "output_type": "stream",
     "text": [
      " 84%|########4 | 622674/739351 [08:52<01:57, 996.87it/s]"
     ]
    },
    {
     "name": "stdout",
     "output_type": "stream",
     "text": [
      "empty/short line: 622695\n",
      "empty/short line: 622706\n",
      "empty/short line: 622756\n",
      "empty/short line: 622763\n",
      "empty/short line: 622768\n",
      "empty/short line: 622770\n"
     ]
    },
    {
     "name": "stderr",
     "output_type": "stream",
     "text": [
      " 84%|########4 | 622774/739351 [08:53<02:00, 968.81it/s]"
     ]
    },
    {
     "name": "stdout",
     "output_type": "stream",
     "text": [
      "empty/short line: 622822\n",
      "empty/short line: 622863\n"
     ]
    },
    {
     "name": "stderr",
     "output_type": "stream",
     "text": [
      " 84%|########4 | 622976/739351 [08:53<01:57, 991.55it/s]"
     ]
    },
    {
     "name": "stdout",
     "output_type": "stream",
     "text": [
      "empty/short line: 622984\n",
      "empty/short line: 622999\n",
      "empty/short line: 623014\n",
      "empty/short line: 623072\n"
     ]
    },
    {
     "name": "stderr",
     "output_type": "stream",
     "text": [
      " 84%|########4 | 623082/739351 [08:53<01:56, 996.87it/s]"
     ]
    },
    {
     "name": "stdout",
     "output_type": "stream",
     "text": [
      "empty/short line: 623095\n",
      "empty/short line: 623127\n"
     ]
    },
    {
     "name": "stderr",
     "output_type": "stream",
     "text": [
      " 84%|########4 | 623182/739351 [08:53<01:56, 994.83it/s]"
     ]
    },
    {
     "name": "stdout",
     "output_type": "stream",
     "text": [
      "empty/short line: 623194\n",
      "empty/short line: 623203\n",
      "empty/short line: 623231\n"
     ]
    },
    {
     "name": "stderr",
     "output_type": "stream",
     "text": [
      " 84%|########4 | 623284/739351 [08:53<01:57, 987.69it/s]"
     ]
    },
    {
     "name": "stdout",
     "output_type": "stream",
     "text": [
      "empty/short line: 623299\n",
      "empty/short line: 623313\n"
     ]
    },
    {
     "name": "stderr",
     "output_type": "stream",
     "text": [
      " 84%|########4 | 623397/739351 [08:53<01:54, 1012.67it/s]"
     ]
    },
    {
     "name": "stdout",
     "output_type": "stream",
     "text": [
      "empty/short line: 623463\n",
      "empty/short line: 623472\n",
      "empty/short line: 623484\n",
      "empty/short line: 623494\n"
     ]
    },
    {
     "name": "stderr",
     "output_type": "stream",
     "text": [
      " 84%|########4 | 623500/739351 [08:53<01:53, 1017.81it/s]"
     ]
    },
    {
     "name": "stdout",
     "output_type": "stream",
     "text": [
      "empty/short line: 623509\n",
      "empty/short line: 623512\n",
      "empty/short line: 623564\n"
     ]
    },
    {
     "name": "stderr",
     "output_type": "stream",
     "text": [
      " 84%|########4 | 623602/739351 [08:53<01:57, 988.84it/s] "
     ]
    },
    {
     "name": "stdout",
     "output_type": "stream",
     "text": [
      "empty/short line: 623636\n",
      "empty/short line: 623660\n",
      "empty/short line: 623668\n",
      "empty/short line: 623673\n",
      "empty/short line: 623691\n",
      "empty/short line: 623695\n",
      "empty/short line: 623697\n"
     ]
    },
    {
     "name": "stderr",
     "output_type": "stream",
     "text": [
      " 84%|########4 | 623702/739351 [08:53<01:56, 992.16it/s]"
     ]
    },
    {
     "name": "stdout",
     "output_type": "stream",
     "text": [
      "empty/short line: 623767\n",
      "empty/short line: 623774\n"
     ]
    },
    {
     "name": "stderr",
     "output_type": "stream",
     "text": [
      " 84%|########4 | 623802/739351 [08:54<01:57, 979.88it/s]"
     ]
    },
    {
     "name": "stdout",
     "output_type": "stream",
     "text": [
      "empty/short line: 623821\n",
      "empty/short line: 623826\n",
      "empty/short line: 623850\n",
      "empty/short line: 623865\n",
      "empty/short line: 623882\n",
      "empty/short line: 623885\n",
      "empty/short line: 623889\n",
      "empty/short line: 623890\n",
      "empty/short line: 623896\n",
      "empty/short line: 623897\n"
     ]
    },
    {
     "name": "stderr",
     "output_type": "stream",
     "text": [
      " 84%|########4 | 623901/739351 [08:54<01:57, 982.90it/s]"
     ]
    },
    {
     "name": "stdout",
     "output_type": "stream",
     "text": [
      "empty/short line: 623982\n",
      "empty/short line: 623994\n"
     ]
    },
    {
     "name": "stderr",
     "output_type": "stream",
     "text": [
      " 84%|########4 | 624000/739351 [08:54<01:57, 985.02it/s]"
     ]
    },
    {
     "name": "stdout",
     "output_type": "stream",
     "text": [
      "empty/short line: 624006\n",
      "empty/short line: 624012\n",
      "empty/short line: 624023\n",
      "empty/short line: 624030\n",
      "empty/short line: 624035\n",
      "empty/short line: 624080\n"
     ]
    },
    {
     "name": "stderr",
     "output_type": "stream",
     "text": [
      " 84%|########4 | 624099/739351 [08:54<02:00, 957.87it/s]"
     ]
    },
    {
     "name": "stdout",
     "output_type": "stream",
     "text": [
      "empty/short line: 624131\n",
      "empty/short line: 624173\n",
      "empty/short line: 624191\n"
     ]
    },
    {
     "name": "stderr",
     "output_type": "stream",
     "text": [
      " 84%|########4 | 624201/739351 [08:54<01:58, 972.91it/s]"
     ]
    },
    {
     "name": "stdout",
     "output_type": "stream",
     "text": [
      "empty/short line: 624218\n",
      "empty/short line: 624258\n",
      "empty/short line: 624291\n"
     ]
    },
    {
     "name": "stderr",
     "output_type": "stream",
     "text": [
      " 84%|########4 | 624306/739351 [08:54<01:55, 994.82it/s]"
     ]
    },
    {
     "name": "stdout",
     "output_type": "stream",
     "text": [
      "empty/short line: 624331\n",
      "empty/short line: 624347\n",
      "empty/short line: 624384\n",
      "empty/short line: 624390\n"
     ]
    },
    {
     "name": "stderr",
     "output_type": "stream",
     "text": [
      " 84%|########4 | 624409/739351 [08:54<01:54, 1005.12it/s]"
     ]
    },
    {
     "name": "stdout",
     "output_type": "stream",
     "text": [
      "empty/short line: 624514\n"
     ]
    },
    {
     "name": "stderr",
     "output_type": "stream",
     "text": [
      " 84%|########4 | 624517/739351 [08:54<01:51, 1026.47it/s]"
     ]
    },
    {
     "name": "stdout",
     "output_type": "stream",
     "text": [
      "empty/short line: 624524\n",
      "empty/short line: 624542\n",
      "empty/short line: 624591\n",
      "empty/short line: 624593\n",
      "empty/short line: 624599\n"
     ]
    },
    {
     "name": "stderr",
     "output_type": "stream",
     "text": [
      " 84%|########4 | 624622/739351 [08:54<01:52, 1018.38it/s]"
     ]
    },
    {
     "name": "stdout",
     "output_type": "stream",
     "text": [
      "empty/short line: 624652\n"
     ]
    },
    {
     "name": "stderr",
     "output_type": "stream",
     "text": [
      " 84%|########4 | 624731/739351 [08:55<01:50, 1038.86it/s]"
     ]
    },
    {
     "name": "stdout",
     "output_type": "stream",
     "text": [
      "empty/short line: 624736\n",
      "empty/short line: 624764\n",
      "empty/short line: 624770\n",
      "empty/short line: 624781\n",
      "empty/short line: 624793\n",
      "empty/short line: 624828\n",
      "empty/short line: 624829\n",
      "empty/short line: 624830\n",
      "empty/short line: 624834\n",
      "empty/short line: 624837\n",
      "empty/short line: 624839\n",
      "empty/short line: 624840\n"
     ]
    },
    {
     "name": "stderr",
     "output_type": "stream",
     "text": [
      " 85%|########4 | 624842/739351 [08:55<01:49, 1044.28it/s]"
     ]
    },
    {
     "name": "stdout",
     "output_type": "stream",
     "text": [
      "empty/short line: 624867\n",
      "empty/short line: 624872\n",
      "empty/short line: 624873\n",
      "empty/short line: 624877\n",
      "empty/short line: 624884\n"
     ]
    },
    {
     "name": "stderr",
     "output_type": "stream",
     "text": [
      " 85%|########4 | 625161/739351 [08:55<01:50, 1033.65it/s]"
     ]
    },
    {
     "name": "stdout",
     "output_type": "stream",
     "text": [
      "empty/short line: 625225\n"
     ]
    },
    {
     "name": "stderr",
     "output_type": "stream",
     "text": [
      " 85%|########4 | 625265/739351 [08:55<01:50, 1029.39it/s]"
     ]
    },
    {
     "name": "stdout",
     "output_type": "stream",
     "text": [
      "empty/short line: 625275\n",
      "empty/short line: 625289\n",
      "empty/short line: 625306\n",
      "empty/short line: 625326\n",
      "empty/short line: 625331\n",
      "empty/short line: 625342\n",
      "empty/short line: 625346\n"
     ]
    },
    {
     "name": "stderr",
     "output_type": "stream",
     "text": [
      " 85%|########4 | 625369/739351 [08:55<01:50, 1032.55it/s]"
     ]
    },
    {
     "name": "stdout",
     "output_type": "stream",
     "text": [
      "empty/short line: 625420\n",
      "empty/short line: 625441\n",
      "empty/short line: 625444\n",
      "empty/short line: 625447\n"
     ]
    },
    {
     "name": "stderr",
     "output_type": "stream",
     "text": [
      " 85%|########4 | 625476/739351 [08:55<01:50, 1028.46it/s]"
     ]
    },
    {
     "name": "stdout",
     "output_type": "stream",
     "text": [
      "empty/short line: 625581\n"
     ]
    },
    {
     "name": "stderr",
     "output_type": "stream",
     "text": [
      " 85%|########4 | 625691/739351 [08:55<01:49, 1040.60it/s]"
     ]
    },
    {
     "name": "stdout",
     "output_type": "stream",
     "text": [
      "empty/short line: 625720\n",
      "empty/short line: 625742\n",
      "empty/short line: 625766\n"
     ]
    },
    {
     "name": "stderr",
     "output_type": "stream",
     "text": [
      " 85%|########4 | 625803/739351 [08:56<01:48, 1048.29it/s]"
     ]
    },
    {
     "name": "stdout",
     "output_type": "stream",
     "text": [
      "empty/short line: 625831\n",
      "empty/short line: 625856\n",
      "empty/short line: 625867\n",
      "empty/short line: 625873\n",
      "empty/short line: 625883\n",
      "empty/short line: 625887\n"
     ]
    },
    {
     "name": "stderr",
     "output_type": "stream",
     "text": [
      " 85%|########4 | 625908/739351 [08:56<01:51, 1018.29it/s]"
     ]
    },
    {
     "name": "stdout",
     "output_type": "stream",
     "text": [
      "empty/short line: 625933\n",
      "empty/short line: 625946\n",
      "empty/short line: 625960\n",
      "empty/short line: 625984\n"
     ]
    },
    {
     "name": "stderr",
     "output_type": "stream",
     "text": [
      " 85%|########4 | 626017/739351 [08:56<01:50, 1024.15it/s]"
     ]
    },
    {
     "name": "stdout",
     "output_type": "stream",
     "text": [
      "empty/short line: 626044\n",
      "empty/short line: 626055\n",
      "empty/short line: 626080\n"
     ]
    },
    {
     "name": "stderr",
     "output_type": "stream",
     "text": [
      " 85%|########4 | 626121/739351 [08:56<01:50, 1028.85it/s]"
     ]
    },
    {
     "name": "stdout",
     "output_type": "stream",
     "text": [
      "empty/short line: 626133\n",
      "empty/short line: 626142\n",
      "empty/short line: 626171\n",
      "empty/short line: 626180\n",
      "empty/short line: 626189\n",
      "empty/short line: 626196\n",
      "empty/short line: 626210\n",
      "empty/short line: 626212\n",
      "empty/short line: 626218\n",
      "empty/short line: 626221\n",
      "empty/short line: 626224\n"
     ]
    },
    {
     "name": "stderr",
     "output_type": "stream",
     "text": [
      " 85%|########4 | 626225/739351 [08:56<01:49, 1029.11it/s]"
     ]
    },
    {
     "name": "stdout",
     "output_type": "stream",
     "text": [
      "empty/short line: 626325\n"
     ]
    },
    {
     "name": "stderr",
     "output_type": "stream",
     "text": [
      " 85%|########4 | 626330/739351 [08:56<01:49, 1035.29it/s]"
     ]
    },
    {
     "name": "stdout",
     "output_type": "stream",
     "text": [
      "empty/short line: 626341\n",
      "empty/short line: 626356\n",
      "empty/short line: 626373\n",
      "empty/short line: 626377\n",
      "empty/short line: 626418\n",
      "empty/short line: 626431\n"
     ]
    },
    {
     "name": "stderr",
     "output_type": "stream",
     "text": [
      " 85%|########4 | 626437/739351 [08:56<01:49, 1030.36it/s]"
     ]
    },
    {
     "name": "stdout",
     "output_type": "stream",
     "text": [
      "empty/short line: 626446\n",
      "empty/short line: 626469\n",
      "empty/short line: 626481\n",
      "empty/short line: 626536\n"
     ]
    },
    {
     "name": "stderr",
     "output_type": "stream",
     "text": [
      " 85%|########4 | 626541/739351 [08:56<01:49, 1033.23it/s]"
     ]
    },
    {
     "name": "stdout",
     "output_type": "stream",
     "text": [
      "empty/short line: 626549\n",
      "empty/short line: 626559\n",
      "empty/short line: 626584\n"
     ]
    },
    {
     "name": "stderr",
     "output_type": "stream",
     "text": [
      " 85%|########4 | 626645/739351 [08:56<01:48, 1035.25it/s]"
     ]
    },
    {
     "name": "stdout",
     "output_type": "stream",
     "text": [
      "empty/short line: 626646\n",
      "empty/short line: 626669\n",
      "empty/short line: 626677\n",
      "empty/short line: 626694\n",
      "empty/short line: 626698\n"
     ]
    },
    {
     "name": "stderr",
     "output_type": "stream",
     "text": [
      " 85%|########4 | 626749/739351 [08:56<01:48, 1036.67it/s]"
     ]
    },
    {
     "name": "stdout",
     "output_type": "stream",
     "text": [
      "empty/short line: 626778\n",
      "empty/short line: 626785\n",
      "empty/short line: 626789\n",
      "empty/short line: 626794\n",
      "empty/short line: 626809\n",
      "empty/short line: 626814\n",
      "empty/short line: 626815\n",
      "empty/short line: 626817\n",
      "empty/short line: 626820\n",
      "empty/short line: 626822\n",
      "empty/short line: 626825\n",
      "empty/short line: 626826\n",
      "empty/short line: 626828\n"
     ]
    },
    {
     "name": "stderr",
     "output_type": "stream",
     "text": [
      " 85%|########4 | 626853/739351 [08:57<01:48, 1037.67it/s]"
     ]
    },
    {
     "name": "stdout",
     "output_type": "stream",
     "text": [
      "empty/short line: 626900\n",
      "empty/short line: 626909\n",
      "empty/short line: 626918\n",
      "empty/short line: 626926\n"
     ]
    },
    {
     "name": "stderr",
     "output_type": "stream",
     "text": [
      " 85%|########4 | 626957/739351 [08:57<01:53, 993.72it/s] "
     ]
    },
    {
     "name": "stdout",
     "output_type": "stream",
     "text": [
      "empty/short line: 627011\n",
      "empty/short line: 627025\n",
      "empty/short line: 627057\n"
     ]
    },
    {
     "name": "stderr",
     "output_type": "stream",
     "text": [
      " 85%|########4 | 627061/739351 [08:57<01:51, 1007.16it/s]"
     ]
    },
    {
     "name": "stdout",
     "output_type": "stream",
     "text": [
      "empty/short line: 627066\n",
      "empty/short line: 627095\n",
      "empty/short line: 627121\n",
      "empty/short line: 627134\n",
      "empty/short line: 627141\n",
      "empty/short line: 627145\n"
     ]
    },
    {
     "name": "stderr",
     "output_type": "stream",
     "text": [
      " 85%|########4 | 627164/739351 [08:57<01:52, 999.15it/s] "
     ]
    },
    {
     "name": "stdout",
     "output_type": "stream",
     "text": [
      "empty/short line: 627196\n",
      "empty/short line: 627208\n",
      "empty/short line: 627220\n",
      "empty/short line: 627230\n",
      "empty/short line: 627238\n"
     ]
    },
    {
     "name": "stderr",
     "output_type": "stream",
     "text": [
      " 85%|########4 | 627269/739351 [08:57<01:50, 1010.95it/s]"
     ]
    },
    {
     "name": "stdout",
     "output_type": "stream",
     "text": [
      "empty/short line: 627307\n",
      "empty/short line: 627315\n",
      "empty/short line: 627320\n",
      "empty/short line: 627321\n"
     ]
    },
    {
     "name": "stderr",
     "output_type": "stream",
     "text": [
      " 85%|########4 | 627377/739351 [08:57<01:48, 1030.72it/s]"
     ]
    },
    {
     "name": "stdout",
     "output_type": "stream",
     "text": [
      "empty/short line: 627387\n",
      "empty/short line: 627449\n",
      "empty/short line: 627451\n",
      "empty/short line: 627464\n",
      "empty/short line: 627474\n",
      "empty/short line: 627480\n"
     ]
    },
    {
     "name": "stderr",
     "output_type": "stream",
     "text": [
      " 85%|########4 | 627481/739351 [08:57<01:49, 1018.31it/s]"
     ]
    },
    {
     "name": "stdout",
     "output_type": "stream",
     "text": [
      "empty/short line: 627526\n",
      "empty/short line: 627529\n",
      "empty/short line: 627535\n",
      "empty/short line: 627543\n",
      "empty/short line: 627548\n",
      "empty/short line: 627559\n",
      "empty/short line: 627564\n",
      "empty/short line: 627572\n",
      "empty/short line: 627574\n"
     ]
    },
    {
     "name": "stderr",
     "output_type": "stream",
     "text": [
      " 85%|########4 | 627584/739351 [08:57<01:49, 1021.79it/s]"
     ]
    },
    {
     "name": "stdout",
     "output_type": "stream",
     "text": [
      "empty/short line: 627634\n",
      "empty/short line: 627653\n",
      "empty/short line: 627655\n",
      "empty/short line: 627665\n"
     ]
    },
    {
     "name": "stderr",
     "output_type": "stream",
     "text": [
      " 85%|########4 | 627687/739351 [08:57<01:50, 1009.18it/s]"
     ]
    },
    {
     "name": "stdout",
     "output_type": "stream",
     "text": [
      "empty/short line: 627711\n",
      "empty/short line: 627735\n"
     ]
    },
    {
     "name": "stderr",
     "output_type": "stream",
     "text": [
      " 85%|########4 | 627789/739351 [08:58<01:50, 1012.40it/s]"
     ]
    },
    {
     "name": "stdout",
     "output_type": "stream",
     "text": [
      "empty/short line: 627815\n",
      "empty/short line: 627827\n",
      "empty/short line: 627828\n",
      "empty/short line: 627840\n",
      "empty/short line: 627846\n"
     ]
    },
    {
     "name": "stderr",
     "output_type": "stream",
     "text": [
      " 85%|########4 | 627891/739351 [08:58<01:51, 999.75it/s] "
     ]
    },
    {
     "name": "stdout",
     "output_type": "stream",
     "text": [
      "empty/short line: 627965\n",
      "empty/short line: 627977\n",
      "empty/short line: 627982\n",
      "empty/short line: 627991\n",
      "empty/short line: 627996\n"
     ]
    },
    {
     "name": "stderr",
     "output_type": "stream",
     "text": [
      " 85%|########4 | 628002/739351 [08:58<01:49, 1016.30it/s]"
     ]
    },
    {
     "name": "stdout",
     "output_type": "stream",
     "text": [
      "empty/short line: 628002\n",
      "empty/short line: 628009\n",
      "empty/short line: 628066\n",
      "empty/short line: 628081\n",
      "empty/short line: 628099\n"
     ]
    },
    {
     "name": "stderr",
     "output_type": "stream",
     "text": [
      " 85%|########4 | 628104/739351 [08:58<01:49, 1017.41it/s]"
     ]
    },
    {
     "name": "stdout",
     "output_type": "stream",
     "text": [
      "empty/short line: 628104\n",
      "empty/short line: 628110\n",
      "empty/short line: 628115\n",
      "empty/short line: 628194\n",
      "empty/short line: 628205\n"
     ]
    },
    {
     "name": "stderr",
     "output_type": "stream",
     "text": [
      " 85%|########4 | 628209/739351 [08:58<01:48, 1026.97it/s]"
     ]
    },
    {
     "name": "stdout",
     "output_type": "stream",
     "text": [
      "empty/short line: 628256\n",
      "empty/short line: 628262\n",
      "empty/short line: 628270\n",
      "empty/short line: 628272\n",
      "empty/short line: 628279\n"
     ]
    },
    {
     "name": "stderr",
     "output_type": "stream",
     "text": [
      " 85%|########4 | 628317/739351 [08:58<01:46, 1042.32it/s]"
     ]
    },
    {
     "name": "stdout",
     "output_type": "stream",
     "text": [
      "empty/short line: 628367\n",
      "empty/short line: 628379\n",
      "empty/short line: 628381\n",
      "empty/short line: 628392\n"
     ]
    },
    {
     "name": "stderr",
     "output_type": "stream",
     "text": [
      " 85%|########4 | 628425/739351 [08:58<01:45, 1053.35it/s]"
     ]
    },
    {
     "name": "stdout",
     "output_type": "stream",
     "text": [
      "empty/short line: 628475\n",
      "empty/short line: 628520\n"
     ]
    },
    {
     "name": "stderr",
     "output_type": "stream",
     "text": [
      " 85%|########5 | 628534/739351 [08:58<01:44, 1064.08it/s]"
     ]
    },
    {
     "name": "stdout",
     "output_type": "stream",
     "text": [
      "empty/short line: 628564\n",
      "empty/short line: 628566\n",
      "empty/short line: 628569\n",
      "empty/short line: 628571\n",
      "empty/short line: 628576\n"
     ]
    },
    {
     "name": "stderr",
     "output_type": "stream",
     "text": [
      " 85%|########5 | 628643/739351 [08:58<01:44, 1056.15it/s]"
     ]
    },
    {
     "name": "stdout",
     "output_type": "stream",
     "text": [
      "empty/short line: 628646\n",
      "empty/short line: 628663\n",
      "empty/short line: 628741\n",
      "empty/short line: 628745\n"
     ]
    },
    {
     "name": "stderr",
     "output_type": "stream",
     "text": [
      " 85%|########5 | 628749/739351 [08:58<01:44, 1057.30it/s]"
     ]
    },
    {
     "name": "stdout",
     "output_type": "stream",
     "text": [
      "empty/short line: 628761\n",
      "empty/short line: 628769\n",
      "empty/short line: 628808\n",
      "empty/short line: 628819\n",
      "empty/short line: 628846\n",
      "empty/short line: 628852\n",
      "empty/short line: 628853\n"
     ]
    },
    {
     "name": "stderr",
     "output_type": "stream",
     "text": [
      " 85%|########5 | 628858/739351 [08:59<01:45, 1051.46it/s]"
     ]
    },
    {
     "name": "stdout",
     "output_type": "stream",
     "text": [
      "empty/short line: 628858\n",
      "empty/short line: 628862\n",
      "empty/short line: 628951\n"
     ]
    },
    {
     "name": "stderr",
     "output_type": "stream",
     "text": [
      " 85%|########5 | 629069/739351 [08:59<01:45, 1041.94it/s]"
     ]
    },
    {
     "name": "stdout",
     "output_type": "stream",
     "text": [
      "empty/short line: 629105\n",
      "empty/short line: 629112\n",
      "empty/short line: 629146\n",
      "empty/short line: 629148\n"
     ]
    },
    {
     "name": "stderr",
     "output_type": "stream",
     "text": [
      " 85%|########5 | 629181/739351 [08:59<01:45, 1049.23it/s]"
     ]
    },
    {
     "name": "stdout",
     "output_type": "stream",
     "text": [
      "empty/short line: 629213\n",
      "empty/short line: 629218\n",
      "empty/short line: 629248\n"
     ]
    },
    {
     "name": "stderr",
     "output_type": "stream",
     "text": [
      " 85%|########5 | 629290/739351 [08:59<01:44, 1054.98it/s]"
     ]
    },
    {
     "name": "stdout",
     "output_type": "stream",
     "text": [
      "empty/short line: 629301\n",
      "empty/short line: 629315\n",
      "empty/short line: 629323\n",
      "empty/short line: 629342\n",
      "empty/short line: 629343\n"
     ]
    },
    {
     "name": "stderr",
     "output_type": "stream",
     "text": [
      " 85%|########5 | 629400/739351 [08:59<01:43, 1058.84it/s]"
     ]
    },
    {
     "name": "stdout",
     "output_type": "stream",
     "text": [
      "empty/short line: 629404\n",
      "empty/short line: 629415\n",
      "empty/short line: 629419\n",
      "empty/short line: 629431\n",
      "empty/short line: 629436\n",
      "empty/short line: 629489\n",
      "empty/short line: 629498\n"
     ]
    },
    {
     "name": "stderr",
     "output_type": "stream",
     "text": [
      " 85%|########5 | 629507/739351 [08:59<01:44, 1046.58it/s]"
     ]
    },
    {
     "name": "stdout",
     "output_type": "stream",
     "text": [
      "empty/short line: 629512\n",
      "empty/short line: 629514\n"
     ]
    },
    {
     "name": "stderr",
     "output_type": "stream",
     "text": [
      " 85%|########5 | 629625/739351 [08:59<01:41, 1083.32it/s]"
     ]
    },
    {
     "name": "stdout",
     "output_type": "stream",
     "text": [
      "empty/short line: 629631\n",
      "empty/short line: 629637\n",
      "empty/short line: 629640\n",
      "empty/short line: 629666\n",
      "empty/short line: 629672\n",
      "empty/short line: 629676\n",
      "empty/short line: 629688\n",
      "empty/short line: 629743\n"
     ]
    },
    {
     "name": "stderr",
     "output_type": "stream",
     "text": [
      " 85%|########5 | 629744/739351 [08:59<01:39, 1097.86it/s]"
     ]
    },
    {
     "name": "stdout",
     "output_type": "stream",
     "text": [
      "empty/short line: 629754\n",
      "empty/short line: 629758\n",
      "empty/short line: 629763\n"
     ]
    },
    {
     "name": "stderr",
     "output_type": "stream",
     "text": [
      " 85%|########5 | 630082/739351 [09:00<01:39, 1093.60it/s]"
     ]
    },
    {
     "name": "stdout",
     "output_type": "stream",
     "text": [
      "empty/short line: 630161\n",
      "empty/short line: 630174\n",
      "empty/short line: 630184\n"
     ]
    },
    {
     "name": "stderr",
     "output_type": "stream",
     "text": [
      " 85%|########5 | 630199/739351 [09:00<01:37, 1115.45it/s]"
     ]
    },
    {
     "name": "stdout",
     "output_type": "stream",
     "text": [
      "empty/short line: 630239\n",
      "empty/short line: 630253\n",
      "empty/short line: 630284\n",
      "empty/short line: 630291\n"
     ]
    },
    {
     "name": "stderr",
     "output_type": "stream",
     "text": [
      " 85%|########5 | 630311/739351 [09:00<01:40, 1084.38it/s]"
     ]
    },
    {
     "name": "stdout",
     "output_type": "stream",
     "text": [
      "empty/short line: 630355\n",
      "empty/short line: 630364\n",
      "empty/short line: 630383\n",
      "empty/short line: 630391\n"
     ]
    },
    {
     "name": "stderr",
     "output_type": "stream",
     "text": [
      " 85%|########5 | 630420/739351 [09:00<01:43, 1051.48it/s]"
     ]
    },
    {
     "name": "stdout",
     "output_type": "stream",
     "text": [
      "empty/short line: 630445\n",
      "empty/short line: 630454\n",
      "empty/short line: 630462\n",
      "empty/short line: 630468\n",
      "empty/short line: 630484\n"
     ]
    },
    {
     "name": "stderr",
     "output_type": "stream",
     "text": [
      " 85%|########5 | 630526/739351 [09:00<01:44, 1038.53it/s]"
     ]
    },
    {
     "name": "stdout",
     "output_type": "stream",
     "text": [
      "empty/short line: 630546\n",
      "empty/short line: 630558\n",
      "empty/short line: 630564\n",
      "empty/short line: 630568\n"
     ]
    },
    {
     "name": "stderr",
     "output_type": "stream",
     "text": [
      " 85%|########5 | 630638/739351 [09:00<01:43, 1046.81it/s]"
     ]
    },
    {
     "name": "stdout",
     "output_type": "stream",
     "text": [
      "empty/short line: 630657\n",
      "empty/short line: 630672\n",
      "empty/short line: 630677\n",
      "empty/short line: 630678\n",
      "empty/short line: 630705\n",
      "empty/short line: 630714\n",
      "empty/short line: 630720\n",
      "empty/short line: 630729\n"
     ]
    },
    {
     "name": "stderr",
     "output_type": "stream",
     "text": [
      " 85%|########5 | 630746/739351 [09:00<01:44, 1041.27it/s]"
     ]
    },
    {
     "name": "stdout",
     "output_type": "stream",
     "text": [
      "empty/short line: 630816\n",
      "empty/short line: 630825\n",
      "empty/short line: 630837\n"
     ]
    },
    {
     "name": "stderr",
     "output_type": "stream",
     "text": [
      " 85%|########5 | 630852/739351 [09:00<01:43, 1046.82it/s]"
     ]
    },
    {
     "name": "stdout",
     "output_type": "stream",
     "text": [
      "empty/short line: 630858\n",
      "empty/short line: 630865\n",
      "empty/short line: 630873\n",
      "empty/short line: 630919\n",
      "empty/short line: 630942\n",
      "empty/short line: 630944\n",
      "empty/short line: 630949\n"
     ]
    },
    {
     "name": "stderr",
     "output_type": "stream",
     "text": [
      " 85%|########5 | 630957/739351 [09:00<01:43, 1047.77it/s]"
     ]
    },
    {
     "name": "stdout",
     "output_type": "stream",
     "text": [
      "empty/short line: 630958\n",
      "empty/short line: 630968\n",
      "empty/short line: 631023\n",
      "empty/short line: 631033\n",
      "empty/short line: 631053\n"
     ]
    },
    {
     "name": "stderr",
     "output_type": "stream",
     "text": [
      " 85%|########5 | 631062/739351 [09:01<01:43, 1048.44it/s]"
     ]
    },
    {
     "name": "stdout",
     "output_type": "stream",
     "text": [
      "empty/short line: 631105\n",
      "empty/short line: 631111\n",
      "empty/short line: 631123\n",
      "empty/short line: 631146\n",
      "empty/short line: 631151\n"
     ]
    },
    {
     "name": "stderr",
     "output_type": "stream",
     "text": [
      " 86%|########5 | 632164/739351 [09:02<01:37, 1101.27it/s]"
     ]
    },
    {
     "name": "stdout",
     "output_type": "stream",
     "text": [
      "empty/short line: 632173\n",
      "empty/short line: 632177\n",
      "empty/short line: 632193\n",
      "empty/short line: 632201\n",
      "empty/short line: 632257\n"
     ]
    },
    {
     "name": "stderr",
     "output_type": "stream",
     "text": [
      " 86%|########5 | 632275/739351 [09:02<01:39, 1071.90it/s]"
     ]
    },
    {
     "name": "stdout",
     "output_type": "stream",
     "text": [
      "empty/short line: 632353\n",
      "empty/short line: 632374\n",
      "empty/short line: 632378\n"
     ]
    },
    {
     "name": "stderr",
     "output_type": "stream",
     "text": [
      " 86%|########5 | 632383/739351 [09:02<01:41, 1058.52it/s]"
     ]
    },
    {
     "name": "stdout",
     "output_type": "stream",
     "text": [
      "empty/short line: 632391\n",
      "empty/short line: 632395\n",
      "empty/short line: 632465\n",
      "empty/short line: 632478\n",
      "empty/short line: 632483\n",
      "empty/short line: 632489\n"
     ]
    },
    {
     "name": "stderr",
     "output_type": "stream",
     "text": [
      " 86%|########5 | 632490/739351 [09:02<01:42, 1046.36it/s]"
     ]
    },
    {
     "name": "stdout",
     "output_type": "stream",
     "text": [
      "empty/short line: 632492\n",
      "empty/short line: 632557\n",
      "empty/short line: 632595\n"
     ]
    },
    {
     "name": "stderr",
     "output_type": "stream",
     "text": [
      " 86%|########5 | 632602/739351 [09:02<01:40, 1067.41it/s]"
     ]
    },
    {
     "name": "stdout",
     "output_type": "stream",
     "text": [
      "empty/short line: 632645\n",
      "empty/short line: 632665\n",
      "empty/short line: 632677\n",
      "empty/short line: 632685\n"
     ]
    },
    {
     "name": "stderr",
     "output_type": "stream",
     "text": [
      " 86%|########5 | 632709/739351 [09:02<01:41, 1052.43it/s]"
     ]
    },
    {
     "name": "stdout",
     "output_type": "stream",
     "text": [
      "empty/short line: 632755\n",
      "empty/short line: 632763\n",
      "empty/short line: 632770\n",
      "empty/short line: 632791\n",
      "empty/short line: 632798\n"
     ]
    },
    {
     "name": "stderr",
     "output_type": "stream",
     "text": [
      " 86%|########5 | 632815/739351 [09:02<01:41, 1054.69it/s]"
     ]
    },
    {
     "name": "stdout",
     "output_type": "stream",
     "text": [
      "empty/short line: 632885\n",
      "empty/short line: 632903\n",
      "empty/short line: 632910\n",
      "empty/short line: 632918\n"
     ]
    },
    {
     "name": "stderr",
     "output_type": "stream",
     "text": [
      " 86%|########5 | 632922/739351 [09:02<01:41, 1043.74it/s]"
     ]
    },
    {
     "name": "stdout",
     "output_type": "stream",
     "text": [
      "empty/short line: 632931\n",
      "empty/short line: 632940\n",
      "empty/short line: 632948\n",
      "empty/short line: 632949\n"
     ]
    },
    {
     "name": "stderr",
     "output_type": "stream",
     "text": [
      " 86%|########5 | 633031/739351 [09:02<01:40, 1057.20it/s]"
     ]
    },
    {
     "name": "stdout",
     "output_type": "stream",
     "text": [
      "empty/short line: 633035\n",
      "empty/short line: 633041\n",
      "empty/short line: 633073\n",
      "empty/short line: 633081\n",
      "empty/short line: 633126\n",
      "empty/short line: 633134\n"
     ]
    },
    {
     "name": "stderr",
     "output_type": "stream",
     "text": [
      " 86%|########5 | 633137/739351 [09:03<01:41, 1042.43it/s]"
     ]
    },
    {
     "name": "stdout",
     "output_type": "stream",
     "text": [
      "empty/short line: 633159\n",
      "empty/short line: 633161\n",
      "empty/short line: 633164\n",
      "empty/short line: 633169\n",
      "empty/short line: 633236\n"
     ]
    },
    {
     "name": "stderr",
     "output_type": "stream",
     "text": [
      " 86%|########5 | 633242/739351 [09:03<01:44, 1014.41it/s]"
     ]
    },
    {
     "name": "stdout",
     "output_type": "stream",
     "text": [
      "empty/short line: 633248\n",
      "empty/short line: 633254\n",
      "empty/short line: 633263\n",
      "empty/short line: 633265\n",
      "empty/short line: 633271\n",
      "empty/short line: 633332\n"
     ]
    },
    {
     "name": "stderr",
     "output_type": "stream",
     "text": [
      " 86%|########5 | 633344/739351 [09:03<01:44, 1016.08it/s]"
     ]
    },
    {
     "name": "stdout",
     "output_type": "stream",
     "text": [
      "empty/short line: 633357\n",
      "empty/short line: 633374\n"
     ]
    },
    {
     "name": "stderr",
     "output_type": "stream",
     "text": [
      " 86%|########5 | 633454/739351 [09:03<01:41, 1039.88it/s]"
     ]
    },
    {
     "name": "stdout",
     "output_type": "stream",
     "text": [
      "empty/short line: 633469\n",
      "empty/short line: 633535\n",
      "empty/short line: 633547\n"
     ]
    },
    {
     "name": "stderr",
     "output_type": "stream",
     "text": [
      " 86%|########5 | 633559/739351 [09:03<01:43, 1024.58it/s]"
     ]
    },
    {
     "name": "stdout",
     "output_type": "stream",
     "text": [
      "empty/short line: 633565\n",
      "empty/short line: 633625\n",
      "empty/short line: 633640\n",
      "empty/short line: 633657\n",
      "empty/short line: 633661\n"
     ]
    },
    {
     "name": "stderr",
     "output_type": "stream",
     "text": [
      " 86%|########5 | 633670/739351 [09:03<01:40, 1048.79it/s]"
     ]
    },
    {
     "name": "stdout",
     "output_type": "stream",
     "text": [
      "empty/short line: 633718\n",
      "empty/short line: 633728\n",
      "empty/short line: 633735\n",
      "empty/short line: 633744\n",
      "empty/short line: 633750\n",
      "empty/short line: 633753\n"
     ]
    },
    {
     "name": "stderr",
     "output_type": "stream",
     "text": [
      " 86%|########5 | 633776/739351 [09:03<01:40, 1052.13it/s]"
     ]
    },
    {
     "name": "stdout",
     "output_type": "stream",
     "text": [
      "empty/short line: 633815\n",
      "empty/short line: 633818\n",
      "empty/short line: 633845\n",
      "empty/short line: 633861\n"
     ]
    },
    {
     "name": "stderr",
     "output_type": "stream",
     "text": [
      " 86%|########5 | 633882/739351 [09:03<01:40, 1054.48it/s]"
     ]
    },
    {
     "name": "stdout",
     "output_type": "stream",
     "text": [
      "empty/short line: 633899\n",
      "empty/short line: 633910\n"
     ]
    },
    {
     "name": "stderr",
     "output_type": "stream",
     "text": [
      " 86%|########5 | 633993/739351 [09:03<01:38, 1070.54it/s]"
     ]
    },
    {
     "name": "stdout",
     "output_type": "stream",
     "text": [
      "empty/short line: 634072\n",
      "empty/short line: 634082\n",
      "empty/short line: 634084\n"
     ]
    },
    {
     "name": "stderr",
     "output_type": "stream",
     "text": [
      " 86%|########5 | 634101/739351 [09:03<01:39, 1057.59it/s]"
     ]
    },
    {
     "name": "stdout",
     "output_type": "stream",
     "text": [
      "empty/short line: 634142\n",
      "empty/short line: 634152\n",
      "empty/short line: 634175\n",
      "empty/short line: 634181\n"
     ]
    },
    {
     "name": "stderr",
     "output_type": "stream",
     "text": [
      " 86%|########5 | 634207/739351 [09:04<01:40, 1042.70it/s]"
     ]
    },
    {
     "name": "stdout",
     "output_type": "stream",
     "text": [
      "empty/short line: 634270\n",
      "empty/short line: 634274\n",
      "empty/short line: 634294\n",
      "empty/short line: 634308\n",
      "empty/short line: 634315\n"
     ]
    },
    {
     "name": "stderr",
     "output_type": "stream",
     "text": [
      " 86%|########5 | 634317/739351 [09:04<01:39, 1059.25it/s]"
     ]
    },
    {
     "name": "stdout",
     "output_type": "stream",
     "text": [
      "empty/short line: 634369\n",
      "empty/short line: 634380\n",
      "empty/short line: 634399\n",
      "empty/short line: 634411\n",
      "empty/short line: 634421\n"
     ]
    },
    {
     "name": "stderr",
     "output_type": "stream",
     "text": [
      " 86%|########5 | 634424/739351 [09:04<01:40, 1046.86it/s]"
     ]
    },
    {
     "name": "stdout",
     "output_type": "stream",
     "text": [
      "empty/short line: 634428\n",
      "empty/short line: 634482\n",
      "empty/short line: 634487\n"
     ]
    },
    {
     "name": "stderr",
     "output_type": "stream",
     "text": [
      " 86%|########5 | 634533/739351 [09:04<01:38, 1059.44it/s]"
     ]
    },
    {
     "name": "stdout",
     "output_type": "stream",
     "text": [
      "empty/short line: 634535\n",
      "empty/short line: 634541\n",
      "empty/short line: 634608\n",
      "empty/short line: 634610\n",
      "empty/short line: 634613\n",
      "empty/short line: 634616\n",
      "empty/short line: 634618\n",
      "empty/short line: 634622\n"
     ]
    },
    {
     "name": "stderr",
     "output_type": "stream",
     "text": [
      " 86%|########5 | 634640/739351 [09:04<01:39, 1056.29it/s]"
     ]
    },
    {
     "name": "stdout",
     "output_type": "stream",
     "text": [
      "empty/short line: 634644\n",
      "empty/short line: 634649\n",
      "empty/short line: 634658\n",
      "empty/short line: 634669\n",
      "empty/short line: 634694\n",
      "empty/short line: 634708\n",
      "empty/short line: 634712\n",
      "empty/short line: 634744\n"
     ]
    },
    {
     "name": "stderr",
     "output_type": "stream",
     "text": [
      " 86%|########5 | 634746/739351 [09:04<01:41, 1026.68it/s]"
     ]
    },
    {
     "name": "stdout",
     "output_type": "stream",
     "text": [
      "empty/short line: 634748\n",
      "empty/short line: 634754\n",
      "empty/short line: 634789\n"
     ]
    },
    {
     "name": "stderr",
     "output_type": "stream",
     "text": [
      " 86%|########5 | 634849/739351 [09:04<01:41, 1027.67it/s]"
     ]
    },
    {
     "name": "stdout",
     "output_type": "stream",
     "text": [
      "empty/short line: 634938\n",
      "empty/short line: 634939\n"
     ]
    },
    {
     "name": "stderr",
     "output_type": "stream",
     "text": [
      " 86%|########5 | 634952/739351 [09:04<01:43, 1013.19it/s]"
     ]
    },
    {
     "name": "stdout",
     "output_type": "stream",
     "text": [
      "empty/short line: 634963\n",
      "empty/short line: 634975\n",
      "empty/short line: 634990\n"
     ]
    },
    {
     "name": "stderr",
     "output_type": "stream",
     "text": [
      " 86%|########5 | 635171/739351 [09:05<01:39, 1043.04it/s]"
     ]
    },
    {
     "name": "stdout",
     "output_type": "stream",
     "text": [
      "empty/short line: 635187\n",
      "empty/short line: 635192\n",
      "empty/short line: 635206\n",
      "empty/short line: 635219\n",
      "empty/short line: 635244\n",
      "empty/short line: 635253\n",
      "empty/short line: 635260\n"
     ]
    },
    {
     "name": "stderr",
     "output_type": "stream",
     "text": [
      " 86%|########5 | 635380/739351 [09:05<01:40, 1032.80it/s]"
     ]
    },
    {
     "name": "stdout",
     "output_type": "stream",
     "text": [
      "empty/short line: 635398\n",
      "empty/short line: 635410\n",
      "empty/short line: 635426\n",
      "empty/short line: 635451\n",
      "empty/short line: 635460\n"
     ]
    },
    {
     "name": "stderr",
     "output_type": "stream",
     "text": [
      " 86%|########5 | 635484/739351 [09:05<01:41, 1019.73it/s]"
     ]
    },
    {
     "name": "stdout",
     "output_type": "stream",
     "text": [
      "empty/short line: 635587\n"
     ]
    },
    {
     "name": "stderr",
     "output_type": "stream",
     "text": [
      " 86%|########5 | 635588/739351 [09:05<01:42, 1010.77it/s]"
     ]
    },
    {
     "name": "stdout",
     "output_type": "stream",
     "text": [
      "empty/short line: 635606\n",
      "empty/short line: 635617\n",
      "empty/short line: 635633\n",
      "empty/short line: 635650\n",
      "empty/short line: 635654\n"
     ]
    },
    {
     "name": "stderr",
     "output_type": "stream",
     "text": [
      " 86%|########5 | 635691/739351 [09:05<01:42, 1013.46it/s]"
     ]
    },
    {
     "name": "stdout",
     "output_type": "stream",
     "text": [
      "empty/short line: 635708\n",
      "empty/short line: 635719\n",
      "empty/short line: 635720\n"
     ]
    },
    {
     "name": "stderr",
     "output_type": "stream",
     "text": [
      " 86%|########6 | 635904/739351 [09:05<01:39, 1042.05it/s]"
     ]
    },
    {
     "name": "stdout",
     "output_type": "stream",
     "text": [
      "empty/short line: 635929\n",
      "empty/short line: 635935\n",
      "empty/short line: 635941\n",
      "empty/short line: 635955\n",
      "empty/short line: 635977\n"
     ]
    },
    {
     "name": "stderr",
     "output_type": "stream",
     "text": [
      " 86%|########6 | 636015/739351 [09:05<01:38, 1046.53it/s]"
     ]
    },
    {
     "name": "stdout",
     "output_type": "stream",
     "text": [
      "empty/short line: 636027\n",
      "empty/short line: 636048\n",
      "empty/short line: 636066\n",
      "empty/short line: 636076\n"
     ]
    },
    {
     "name": "stderr",
     "output_type": "stream",
     "text": [
      " 86%|########6 | 636228/739351 [09:06<01:38, 1041.80it/s]"
     ]
    },
    {
     "name": "stdout",
     "output_type": "stream",
     "text": [
      "empty/short line: 636229\n",
      "empty/short line: 636231\n",
      "empty/short line: 636232\n",
      "empty/short line: 636233\n",
      "empty/short line: 636235\n",
      "empty/short line: 636237\n",
      "empty/short line: 636239\n"
     ]
    },
    {
     "name": "stderr",
     "output_type": "stream",
     "text": [
      " 86%|########6 | 636336/739351 [09:06<01:39, 1037.79it/s]"
     ]
    },
    {
     "name": "stdout",
     "output_type": "stream",
     "text": [
      "empty/short line: 636430\n",
      "empty/short line: 636433\n",
      "empty/short line: 636439\n"
     ]
    },
    {
     "name": "stderr",
     "output_type": "stream",
     "text": [
      " 86%|########6 | 636440/739351 [09:06<01:39, 1038.45it/s]"
     ]
    },
    {
     "name": "stdout",
     "output_type": "stream",
     "text": [
      "empty/short line: 636450\n",
      "empty/short line: 636453\n",
      "empty/short line: 636462\n",
      "empty/short line: 636488\n"
     ]
    },
    {
     "name": "stderr",
     "output_type": "stream",
     "text": [
      " 86%|########6 | 636551/739351 [09:06<01:38, 1043.99it/s]"
     ]
    },
    {
     "name": "stdout",
     "output_type": "stream",
     "text": [
      "empty/short line: 636627\n",
      "empty/short line: 636645\n"
     ]
    },
    {
     "name": "stderr",
     "output_type": "stream",
     "text": [
      " 86%|########6 | 636656/739351 [09:06<01:38, 1039.57it/s]"
     ]
    },
    {
     "name": "stdout",
     "output_type": "stream",
     "text": [
      "empty/short line: 636657\n",
      "empty/short line: 636661\n",
      "empty/short line: 636671\n",
      "empty/short line: 636681\n",
      "empty/short line: 636690\n",
      "empty/short line: 636735\n",
      "empty/short line: 636742\n"
     ]
    },
    {
     "name": "stderr",
     "output_type": "stream",
     "text": [
      " 86%|########6 | 636765/739351 [09:06<01:38, 1042.11it/s]"
     ]
    },
    {
     "name": "stdout",
     "output_type": "stream",
     "text": [
      "empty/short line: 636772\n",
      "empty/short line: 636783\n",
      "empty/short line: 636792\n",
      "empty/short line: 636805\n",
      "empty/short line: 636823\n",
      "empty/short line: 636830\n",
      "empty/short line: 636841\n"
     ]
    },
    {
     "name": "stderr",
     "output_type": "stream",
     "text": [
      " 86%|########6 | 637090/739351 [09:06<01:36, 1056.12it/s]"
     ]
    },
    {
     "name": "stdout",
     "output_type": "stream",
     "text": [
      "empty/short line: 637148\n",
      "empty/short line: 637168\n",
      "empty/short line: 637193\n"
     ]
    },
    {
     "name": "stderr",
     "output_type": "stream",
     "text": [
      " 86%|########6 | 637196/739351 [09:06<01:36, 1057.28it/s]"
     ]
    },
    {
     "name": "stdout",
     "output_type": "stream",
     "text": [
      "empty/short line: 637214\n",
      "empty/short line: 637270\n",
      "empty/short line: 637275\n",
      "empty/short line: 637285\n",
      "empty/short line: 637289\n"
     ]
    },
    {
     "name": "stderr",
     "output_type": "stream",
     "text": [
      " 86%|########6 | 637306/739351 [09:07<01:35, 1069.74it/s]"
     ]
    },
    {
     "name": "stdout",
     "output_type": "stream",
     "text": [
      "empty/short line: 637318\n",
      "empty/short line: 637345\n",
      "empty/short line: 637359\n",
      "empty/short line: 637369\n"
     ]
    },
    {
     "name": "stderr",
     "output_type": "stream",
     "text": [
      " 86%|########6 | 637644/739351 [09:07<01:32, 1094.54it/s]"
     ]
    },
    {
     "name": "stdout",
     "output_type": "stream",
     "text": [
      "empty/short line: 637702\n",
      "empty/short line: 637712\n",
      "empty/short line: 637724\n",
      "empty/short line: 637732\n",
      "empty/short line: 637736\n"
     ]
    },
    {
     "name": "stderr",
     "output_type": "stream",
     "text": [
      " 86%|########6 | 637863/739351 [09:07<01:33, 1087.50it/s]"
     ]
    },
    {
     "name": "stdout",
     "output_type": "stream",
     "text": [
      "empty/short line: 637926\n",
      "empty/short line: 637928\n",
      "empty/short line: 637931\n",
      "empty/short line: 637937\n",
      "empty/short line: 637942\n",
      "empty/short line: 637952\n",
      "empty/short line: 637964\n"
     ]
    },
    {
     "name": "stderr",
     "output_type": "stream",
     "text": [
      " 86%|########6 | 637972/739351 [09:07<01:34, 1072.19it/s]"
     ]
    },
    {
     "name": "stdout",
     "output_type": "stream",
     "text": [
      "empty/short line: 637976\n",
      "empty/short line: 638039\n"
     ]
    },
    {
     "name": "stderr",
     "output_type": "stream",
     "text": [
      " 86%|########6 | 638085/739351 [09:07<01:34, 1073.39it/s]"
     ]
    },
    {
     "name": "stdout",
     "output_type": "stream",
     "text": [
      "empty/short line: 638092\n",
      "empty/short line: 638098\n",
      "empty/short line: 638109\n",
      "empty/short line: 638120\n",
      "empty/short line: 638127\n",
      "empty/short line: 638149\n",
      "empty/short line: 638167\n",
      "empty/short line: 638169\n",
      "empty/short line: 638171\n"
     ]
    },
    {
     "name": "stderr",
     "output_type": "stream",
     "text": [
      " 86%|########6 | 638193/739351 [09:07<01:36, 1044.17it/s]"
     ]
    },
    {
     "name": "stdout",
     "output_type": "stream",
     "text": [
      "empty/short line: 638198\n",
      "empty/short line: 638210\n",
      "empty/short line: 638217\n",
      "empty/short line: 638222\n",
      "empty/short line: 638225\n",
      "empty/short line: 638267\n",
      "empty/short line: 638272\n",
      "empty/short line: 638277\n",
      "empty/short line: 638279\n",
      "empty/short line: 638308\n"
     ]
    },
    {
     "name": "stderr",
     "output_type": "stream",
     "text": [
      " 86%|########6 | 638309/739351 [09:07<01:33, 1076.42it/s]"
     ]
    },
    {
     "name": "stdout",
     "output_type": "stream",
     "text": [
      "empty/short line: 638314\n",
      "empty/short line: 638326\n",
      "empty/short line: 638352\n",
      "empty/short line: 638370\n"
     ]
    },
    {
     "name": "stderr",
     "output_type": "stream",
     "text": [
      " 86%|########6 | 638419/739351 [09:08<01:33, 1083.38it/s]"
     ]
    },
    {
     "name": "stdout",
     "output_type": "stream",
     "text": [
      "empty/short line: 638482\n",
      "empty/short line: 638495\n",
      "empty/short line: 638509\n",
      "empty/short line: 638522\n"
     ]
    },
    {
     "name": "stderr",
     "output_type": "stream",
     "text": [
      " 86%|########6 | 638528/739351 [09:08<01:32, 1085.36it/s]"
     ]
    },
    {
     "name": "stdout",
     "output_type": "stream",
     "text": [
      "empty/short line: 638539\n"
     ]
    },
    {
     "name": "stderr",
     "output_type": "stream",
     "text": [
      " 86%|########6 | 638650/739351 [09:08<01:30, 1107.24it/s]"
     ]
    },
    {
     "name": "stdout",
     "output_type": "stream",
     "text": [
      "empty/short line: 638710\n"
     ]
    },
    {
     "name": "stderr",
     "output_type": "stream",
     "text": [
      " 86%|########6 | 638770/739351 [09:08<01:28, 1133.53it/s]"
     ]
    },
    {
     "name": "stdout",
     "output_type": "stream",
     "text": [
      "empty/short line: 638778\n",
      "empty/short line: 638780\n",
      "empty/short line: 638782\n",
      "empty/short line: 638787\n",
      "empty/short line: 638788\n",
      "empty/short line: 638792\n",
      "empty/short line: 638793\n",
      "empty/short line: 638794\n",
      "empty/short line: 638798\n",
      "empty/short line: 638801\n"
     ]
    },
    {
     "name": "stderr",
     "output_type": "stream",
     "text": [
      " 86%|########6 | 639129/739351 [09:08<01:25, 1171.33it/s]"
     ]
    },
    {
     "name": "stdout",
     "output_type": "stream",
     "text": [
      "empty/short line: 639158\n",
      "empty/short line: 639167\n",
      "empty/short line: 639173\n",
      "empty/short line: 639191\n",
      "empty/short line: 639216\n",
      "empty/short line: 639244\n"
     ]
    },
    {
     "name": "stderr",
     "output_type": "stream",
     "text": [
      " 86%|########6 | 639247/739351 [09:08<01:27, 1139.89it/s]"
     ]
    },
    {
     "name": "stdout",
     "output_type": "stream",
     "text": [
      "empty/short line: 639262\n",
      "empty/short line: 639267\n",
      "empty/short line: 639274\n",
      "empty/short line: 639296\n",
      "empty/short line: 639301\n"
     ]
    },
    {
     "name": "stderr",
     "output_type": "stream",
     "text": [
      " 86%|########6 | 639362/739351 [09:08<01:28, 1126.12it/s]"
     ]
    },
    {
     "name": "stdout",
     "output_type": "stream",
     "text": [
      "empty/short line: 639389\n",
      "empty/short line: 639394\n",
      "empty/short line: 639424\n",
      "empty/short line: 639426\n"
     ]
    },
    {
     "name": "stderr",
     "output_type": "stream",
     "text": [
      " 86%|########6 | 639478/739351 [09:09<01:29, 1119.63it/s]"
     ]
    },
    {
     "name": "stdout",
     "output_type": "stream",
     "text": [
      "empty/short line: 639560\n",
      "empty/short line: 639564\n",
      "empty/short line: 639567\n",
      "empty/short line: 639571\n",
      "empty/short line: 639579\n"
     ]
    },
    {
     "name": "stderr",
     "output_type": "stream",
     "text": [
      " 87%|########6 | 639591/739351 [09:09<01:28, 1122.72it/s]"
     ]
    },
    {
     "name": "stdout",
     "output_type": "stream",
     "text": [
      "empty/short line: 639591\n",
      "empty/short line: 639613\n",
      "empty/short line: 639616\n",
      "empty/short line: 639624\n"
     ]
    },
    {
     "name": "stderr",
     "output_type": "stream",
     "text": [
      " 87%|########6 | 639704/739351 [09:09<01:28, 1124.89it/s]"
     ]
    },
    {
     "name": "stdout",
     "output_type": "stream",
     "text": [
      "empty/short line: 639716\n",
      "empty/short line: 639722\n",
      "empty/short line: 639753\n"
     ]
    },
    {
     "name": "stderr",
     "output_type": "stream",
     "text": [
      " 87%|########6 | 639817/739351 [09:09<01:29, 1109.82it/s]"
     ]
    },
    {
     "name": "stdout",
     "output_type": "stream",
     "text": [
      "empty/short line: 639851\n",
      "empty/short line: 639855\n",
      "empty/short line: 639869\n",
      "empty/short line: 639889\n"
     ]
    },
    {
     "name": "stderr",
     "output_type": "stream",
     "text": [
      " 87%|########6 | 639929/739351 [09:09<01:30, 1096.51it/s]"
     ]
    },
    {
     "name": "stdout",
     "output_type": "stream",
     "text": [
      "empty/short line: 639932\n",
      "empty/short line: 639943\n",
      "empty/short line: 639960\n"
     ]
    },
    {
     "name": "stderr",
     "output_type": "stream",
     "text": [
      " 87%|########6 | 640039/739351 [09:09<01:32, 1078.18it/s]"
     ]
    },
    {
     "name": "stdout",
     "output_type": "stream",
     "text": [
      "empty/short line: 640106\n",
      "empty/short line: 640109\n",
      "empty/short line: 640111\n",
      "empty/short line: 640124\n",
      "empty/short line: 640148\n"
     ]
    },
    {
     "name": "stderr",
     "output_type": "stream",
     "text": [
      " 87%|########6 | 640271/739351 [09:09<01:28, 1113.55it/s]"
     ]
    },
    {
     "name": "stdout",
     "output_type": "stream",
     "text": [
      "empty/short line: 640381\n",
      "empty/short line: 640387\n",
      "empty/short line: 640391\n"
     ]
    },
    {
     "name": "stderr",
     "output_type": "stream",
     "text": [
      " 87%|########6 | 640396/739351 [09:09<01:27, 1135.57it/s]"
     ]
    },
    {
     "name": "stdout",
     "output_type": "stream",
     "text": [
      "empty/short line: 640398\n",
      "empty/short line: 640413\n",
      "empty/short line: 640414\n",
      "empty/short line: 640459\n",
      "empty/short line: 640466\n",
      "empty/short line: 640474\n",
      "empty/short line: 640481\n",
      "empty/short line: 640493\n",
      "empty/short line: 640496\n",
      "empty/short line: 640505\n"
     ]
    },
    {
     "name": "stderr",
     "output_type": "stream",
     "text": [
      " 87%|########6 | 640510/739351 [09:09<01:29, 1103.87it/s]"
     ]
    },
    {
     "name": "stdout",
     "output_type": "stream",
     "text": [
      "empty/short line: 640530\n",
      "empty/short line: 640531\n",
      "empty/short line: 640534\n",
      "empty/short line: 640535\n",
      "empty/short line: 640541\n",
      "empty/short line: 640551\n",
      "empty/short line: 640555\n",
      "empty/short line: 640568\n",
      "empty/short line: 640574\n",
      "empty/short line: 640585\n"
     ]
    },
    {
     "name": "stderr",
     "output_type": "stream",
     "text": [
      " 87%|########6 | 640621/739351 [09:10<01:30, 1089.42it/s]"
     ]
    },
    {
     "name": "stdout",
     "output_type": "stream",
     "text": [
      "empty/short line: 640644\n",
      "empty/short line: 640647\n",
      "empty/short line: 640653\n",
      "empty/short line: 640657\n",
      "empty/short line: 640660\n",
      "empty/short line: 640683\n",
      "empty/short line: 640686\n",
      "empty/short line: 640692\n",
      "empty/short line: 640714\n"
     ]
    },
    {
     "name": "stderr",
     "output_type": "stream",
     "text": [
      " 87%|########6 | 640731/739351 [09:10<01:31, 1076.53it/s]"
     ]
    },
    {
     "name": "stdout",
     "output_type": "stream",
     "text": [
      "empty/short line: 640774\n",
      "empty/short line: 640804\n",
      "empty/short line: 640832\n",
      "empty/short line: 640833\n",
      "empty/short line: 640835\n"
     ]
    },
    {
     "name": "stderr",
     "output_type": "stream",
     "text": [
      " 87%|########6 | 640839/739351 [09:10<01:34, 1046.25it/s]"
     ]
    },
    {
     "name": "stdout",
     "output_type": "stream",
     "text": [
      "empty/short line: 640841\n",
      "empty/short line: 640842\n",
      "empty/short line: 640859\n",
      "empty/short line: 640862\n",
      "empty/short line: 640870\n"
     ]
    },
    {
     "name": "stderr",
     "output_type": "stream",
     "text": [
      " 87%|########6 | 641820/739351 [09:11<01:29, 1093.51it/s]"
     ]
    },
    {
     "name": "stdout",
     "output_type": "stream",
     "text": [
      "empty/short line: 641921\n",
      "empty/short line: 641929\n"
     ]
    },
    {
     "name": "stderr",
     "output_type": "stream",
     "text": [
      " 87%|########6 | 641934/739351 [09:11<01:27, 1107.05it/s]"
     ]
    },
    {
     "name": "stdout",
     "output_type": "stream",
     "text": [
      "empty/short line: 641946\n",
      "empty/short line: 641967\n",
      "empty/short line: 641999\n",
      "empty/short line: 642004\n",
      "empty/short line: 642019\n",
      "empty/short line: 642026\n",
      "empty/short line: 642027\n",
      "empty/short line: 642029\n"
     ]
    },
    {
     "name": "stderr",
     "output_type": "stream",
     "text": [
      " 87%|########6 | 642045/739351 [09:11<01:29, 1091.59it/s]"
     ]
    },
    {
     "name": "stdout",
     "output_type": "stream",
     "text": [
      "empty/short line: 642051\n",
      "empty/short line: 642052\n",
      "empty/short line: 642054\n",
      "empty/short line: 642057\n",
      "empty/short line: 642068\n",
      "empty/short line: 642071\n",
      "empty/short line: 642074\n",
      "empty/short line: 642075\n",
      "empty/short line: 642084\n",
      "empty/short line: 642088\n",
      "empty/short line: 642106\n",
      "empty/short line: 642117\n",
      "empty/short line: 642128\n",
      "empty/short line: 642132\n",
      "empty/short line: 642138\n",
      "empty/short line: 642139\n"
     ]
    },
    {
     "name": "stderr",
     "output_type": "stream",
     "text": [
      " 87%|########6 | 642155/739351 [09:11<01:31, 1059.33it/s]"
     ]
    },
    {
     "name": "stdout",
     "output_type": "stream",
     "text": [
      "empty/short line: 642172\n",
      "empty/short line: 642178\n",
      "empty/short line: 642187\n",
      "empty/short line: 642191\n",
      "empty/short line: 642192\n",
      "empty/short line: 642197\n",
      "empty/short line: 642202\n",
      "empty/short line: 642203\n",
      "empty/short line: 642204\n",
      "empty/short line: 642206\n",
      "empty/short line: 642207\n",
      "empty/short line: 642256\n",
      "empty/short line: 642257\n",
      "empty/short line: 642258\n",
      "empty/short line: 642261\n"
     ]
    },
    {
     "name": "stderr",
     "output_type": "stream",
     "text": [
      " 87%|########6 | 642262/739351 [09:11<01:31, 1062.51it/s]"
     ]
    },
    {
     "name": "stdout",
     "output_type": "stream",
     "text": [
      "empty/short line: 642266\n",
      "empty/short line: 642271\n"
     ]
    },
    {
     "name": "stderr",
     "output_type": "stream",
     "text": [
      " 87%|########6 | 642369/739351 [09:11<01:31, 1064.74it/s]"
     ]
    },
    {
     "name": "stdout",
     "output_type": "stream",
     "text": [
      "empty/short line: 642380\n",
      "empty/short line: 642382\n",
      "empty/short line: 642386\n",
      "empty/short line: 642390\n",
      "empty/short line: 642397\n",
      "empty/short line: 642398\n",
      "empty/short line: 642412\n",
      "empty/short line: 642420\n"
     ]
    },
    {
     "name": "stderr",
     "output_type": "stream",
     "text": [
      " 87%|########6 | 642584/739351 [09:11<01:32, 1043.90it/s]"
     ]
    },
    {
     "name": "stdout",
     "output_type": "stream",
     "text": [
      "empty/short line: 642625\n",
      "empty/short line: 642631\n",
      "empty/short line: 642649\n",
      "empty/short line: 642654\n",
      "empty/short line: 642656\n"
     ]
    },
    {
     "name": "stderr",
     "output_type": "stream",
     "text": [
      " 87%|########6 | 642696/739351 [09:11<01:31, 1050.63it/s]"
     ]
    },
    {
     "name": "stdout",
     "output_type": "stream",
     "text": [
      "empty/short line: 642719\n",
      "empty/short line: 642721\n",
      "empty/short line: 642723\n",
      "empty/short line: 642728\n",
      "empty/short line: 642731\n",
      "empty/short line: 642739\n",
      "empty/short line: 642741\n",
      "empty/short line: 642742\n"
     ]
    },
    {
     "name": "stderr",
     "output_type": "stream",
     "text": [
      " 87%|########6 | 642802/739351 [09:12<01:33, 1037.95it/s]"
     ]
    },
    {
     "name": "stdout",
     "output_type": "stream",
     "text": [
      "empty/short line: 642844\n",
      "empty/short line: 642845\n",
      "empty/short line: 642850\n",
      "empty/short line: 642886\n"
     ]
    },
    {
     "name": "stderr",
     "output_type": "stream",
     "text": [
      " 87%|########6 | 643010/739351 [09:12<01:32, 1038.99it/s]"
     ]
    },
    {
     "name": "stdout",
     "output_type": "stream",
     "text": [
      "empty/short line: 643066\n",
      "empty/short line: 643085\n",
      "empty/short line: 643089\n"
     ]
    },
    {
     "name": "stderr",
     "output_type": "stream",
     "text": [
      " 87%|########6 | 643229/739351 [09:12<01:30, 1067.23it/s]"
     ]
    },
    {
     "name": "stdout",
     "output_type": "stream",
     "text": [
      "empty/short line: 643296\n",
      "empty/short line: 643298\n",
      "empty/short line: 643303\n",
      "empty/short line: 643309\n",
      "empty/short line: 643318\n",
      "empty/short line: 643323\n"
     ]
    },
    {
     "name": "stderr",
     "output_type": "stream",
     "text": [
      " 87%|########7 | 643337/739351 [09:12<01:29, 1071.03it/s]"
     ]
    },
    {
     "name": "stdout",
     "output_type": "stream",
     "text": [
      "empty/short line: 643340\n",
      "empty/short line: 643385\n",
      "empty/short line: 643404\n",
      "empty/short line: 643428\n"
     ]
    },
    {
     "name": "stderr",
     "output_type": "stream",
     "text": [
      " 87%|########7 | 643555/739351 [09:12<01:28, 1081.46it/s]"
     ]
    },
    {
     "name": "stdout",
     "output_type": "stream",
     "text": [
      "empty/short line: 643568\n",
      "empty/short line: 643573\n",
      "empty/short line: 643574\n",
      "empty/short line: 643586\n",
      "empty/short line: 643595\n",
      "empty/short line: 643600\n",
      "empty/short line: 643602\n"
     ]
    },
    {
     "name": "stderr",
     "output_type": "stream",
     "text": [
      " 87%|########7 | 643664/739351 [09:12<01:32, 1037.57it/s]"
     ]
    },
    {
     "name": "stdout",
     "output_type": "stream",
     "text": [
      "empty/short line: 643734\n",
      "empty/short line: 643735\n"
     ]
    },
    {
     "name": "stderr",
     "output_type": "stream",
     "text": [
      " 87%|########7 | 643874/739351 [09:13<01:32, 1033.09it/s]"
     ]
    },
    {
     "name": "stdout",
     "output_type": "stream",
     "text": [
      "empty/short line: 643905\n",
      "empty/short line: 643919\n",
      "empty/short line: 643929\n"
     ]
    },
    {
     "name": "stderr",
     "output_type": "stream",
     "text": [
      " 87%|########7 | 643978/739351 [09:13<01:32, 1035.15it/s]"
     ]
    },
    {
     "name": "stdout",
     "output_type": "stream",
     "text": [
      "empty/short line: 644070\n"
     ]
    },
    {
     "name": "stderr",
     "output_type": "stream",
     "text": [
      " 87%|########7 | 644191/739351 [09:13<01:33, 1021.93it/s]"
     ]
    },
    {
     "name": "stdout",
     "output_type": "stream",
     "text": [
      "empty/short line: 644227\n",
      "empty/short line: 644281\n",
      "empty/short line: 644286\n"
     ]
    },
    {
     "name": "stderr",
     "output_type": "stream",
     "text": [
      " 87%|########7 | 644294/739351 [09:13<01:32, 1024.33it/s]"
     ]
    },
    {
     "name": "stdout",
     "output_type": "stream",
     "text": [
      "empty/short line: 644294\n",
      "empty/short line: 644303\n",
      "empty/short line: 644310\n",
      "empty/short line: 644320\n",
      "empty/short line: 644362\n",
      "empty/short line: 644363\n",
      "empty/short line: 644396\n"
     ]
    },
    {
     "name": "stderr",
     "output_type": "stream",
     "text": [
      " 87%|########7 | 644510/739351 [09:13<01:31, 1040.58it/s]"
     ]
    },
    {
     "name": "stdout",
     "output_type": "stream",
     "text": [
      "empty/short line: 644535\n",
      "empty/short line: 644539\n",
      "empty/short line: 644547\n",
      "empty/short line: 644553\n",
      "empty/short line: 644559\n",
      "empty/short line: 644563\n",
      "empty/short line: 644573\n",
      "empty/short line: 644584\n"
     ]
    },
    {
     "name": "stderr",
     "output_type": "stream",
     "text": [
      " 87%|########7 | 644723/739351 [09:13<01:30, 1043.11it/s]"
     ]
    },
    {
     "name": "stdout",
     "output_type": "stream",
     "text": [
      "empty/short line: 644771\n",
      "empty/short line: 644785\n",
      "empty/short line: 644795\n",
      "empty/short line: 644820\n"
     ]
    },
    {
     "name": "stderr",
     "output_type": "stream",
     "text": [
      " 87%|########7 | 644831/739351 [09:14<01:30, 1038.71it/s]"
     ]
    },
    {
     "name": "stdout",
     "output_type": "stream",
     "text": [
      "empty/short line: 644879\n",
      "empty/short line: 644903\n",
      "empty/short line: 644910\n"
     ]
    },
    {
     "name": "stderr",
     "output_type": "stream",
     "text": [
      " 87%|########7 | 644936/739351 [09:14<01:30, 1042.07it/s]"
     ]
    },
    {
     "name": "stdout",
     "output_type": "stream",
     "text": [
      "empty/short line: 644999\n",
      "empty/short line: 645019\n"
     ]
    },
    {
     "name": "stderr",
     "output_type": "stream",
     "text": [
      " 87%|########7 | 645041/739351 [09:14<01:30, 1044.43it/s]"
     ]
    },
    {
     "name": "stdout",
     "output_type": "stream",
     "text": [
      "empty/short line: 645117\n",
      "empty/short line: 645119\n",
      "empty/short line: 645131\n",
      "empty/short line: 645139\n"
     ]
    },
    {
     "name": "stderr",
     "output_type": "stream",
     "text": [
      " 87%|########7 | 645146/739351 [09:14<01:30, 1046.10it/s]"
     ]
    },
    {
     "name": "stdout",
     "output_type": "stream",
     "text": [
      "empty/short line: 645149\n",
      "empty/short line: 645158\n",
      "empty/short line: 645159\n"
     ]
    },
    {
     "name": "stderr",
     "output_type": "stream",
     "text": [
      " 87%|########7 | 645251/739351 [09:14<01:30, 1037.95it/s]"
     ]
    },
    {
     "name": "stdout",
     "output_type": "stream",
     "text": [
      "empty/short line: 645255\n",
      "empty/short line: 645259\n"
     ]
    },
    {
     "name": "stderr",
     "output_type": "stream",
     "text": [
      " 87%|########7 | 645355/739351 [09:14<01:31, 1026.26it/s]"
     ]
    },
    {
     "name": "stdout",
     "output_type": "stream",
     "text": [
      "empty/short line: 645408\n",
      "empty/short line: 645411\n"
     ]
    },
    {
     "name": "stderr",
     "output_type": "stream",
     "text": [
      " 87%|########7 | 645465/739351 [09:14<01:30, 1032.58it/s]"
     ]
    },
    {
     "name": "stdout",
     "output_type": "stream",
     "text": [
      "empty/short line: 645537\n"
     ]
    },
    {
     "name": "stderr",
     "output_type": "stream",
     "text": [
      " 87%|########7 | 645572/739351 [09:14<01:29, 1043.53it/s]"
     ]
    },
    {
     "name": "stdout",
     "output_type": "stream",
     "text": [
      "empty/short line: 645612\n",
      "empty/short line: 645628\n",
      "empty/short line: 645631\n",
      "empty/short line: 645642\n",
      "empty/short line: 645664\n"
     ]
    },
    {
     "name": "stderr",
     "output_type": "stream",
     "text": [
      " 87%|########7 | 645677/739351 [09:14<01:30, 1030.07it/s]"
     ]
    },
    {
     "name": "stdout",
     "output_type": "stream",
     "text": [
      "empty/short line: 645684\n",
      "empty/short line: 645694\n",
      "empty/short line: 645754\n",
      "empty/short line: 645764\n"
     ]
    },
    {
     "name": "stderr",
     "output_type": "stream",
     "text": [
      " 87%|########7 | 645784/739351 [09:14<01:29, 1041.74it/s]"
     ]
    },
    {
     "name": "stdout",
     "output_type": "stream",
     "text": [
      "empty/short line: 645785\n",
      "empty/short line: 645810\n",
      "empty/short line: 645812\n",
      "empty/short line: 645838\n",
      "empty/short line: 645839\n",
      "empty/short line: 645848\n",
      "empty/short line: 645859\n"
     ]
    },
    {
     "name": "stderr",
     "output_type": "stream",
     "text": [
      " 87%|########7 | 645889/739351 [09:15<01:29, 1044.20it/s]"
     ]
    },
    {
     "name": "stdout",
     "output_type": "stream",
     "text": [
      "empty/short line: 645924\n",
      "empty/short line: 645926\n",
      "empty/short line: 645927\n",
      "empty/short line: 645932\n"
     ]
    },
    {
     "name": "stderr",
     "output_type": "stream",
     "text": [
      " 87%|########7 | 646102/739351 [09:15<01:29, 1044.89it/s]"
     ]
    },
    {
     "name": "stdout",
     "output_type": "stream",
     "text": [
      "empty/short line: 646105\n",
      "empty/short line: 646119\n",
      "empty/short line: 646124\n",
      "empty/short line: 646128\n",
      "empty/short line: 646135\n",
      "empty/short line: 646138\n",
      "empty/short line: 646145\n",
      "empty/short line: 646161\n",
      "empty/short line: 646163\n",
      "empty/short line: 646164\n",
      "empty/short line: 646166\n",
      "empty/short line: 646167\n",
      "empty/short line: 646186\n",
      "empty/short line: 646194\n",
      "empty/short line: 646198\n"
     ]
    },
    {
     "name": "stderr",
     "output_type": "stream",
     "text": [
      " 87%|########7 | 646207/739351 [09:15<01:30, 1031.01it/s]"
     ]
    },
    {
     "name": "stdout",
     "output_type": "stream",
     "text": [
      "empty/short line: 646226\n",
      "empty/short line: 646232\n",
      "empty/short line: 646237\n",
      "empty/short line: 646255\n",
      "empty/short line: 646259\n",
      "empty/short line: 646295\n"
     ]
    },
    {
     "name": "stderr",
     "output_type": "stream",
     "text": [
      " 87%|########7 | 646311/739351 [09:15<01:30, 1024.52it/s]"
     ]
    },
    {
     "name": "stdout",
     "output_type": "stream",
     "text": [
      "empty/short line: 646327\n",
      "empty/short line: 646356\n",
      "empty/short line: 646364\n",
      "empty/short line: 646365\n",
      "empty/short line: 646399\n",
      "empty/short line: 646403\n",
      "empty/short line: 646407\n"
     ]
    },
    {
     "name": "stderr",
     "output_type": "stream",
     "text": [
      " 89%|########8 | 656470/739351 [09:24<01:12, 1143.07it/s]"
     ]
    },
    {
     "name": "stdout",
     "output_type": "stream",
     "text": [
      "empty/short line: 656583\n"
     ]
    },
    {
     "name": "stderr",
     "output_type": "stream",
     "text": [
      " 89%|########9 | 659442/739351 [09:27<01:06, 1199.51it/s]"
     ]
    },
    {
     "name": "stdout",
     "output_type": "stream",
     "text": [
      "empty/short line: 659536\n"
     ]
    },
    {
     "name": "stderr",
     "output_type": "stream",
     "text": [
      " 94%|#########3| 692690/739351 [09:54<00:38, 1200.76it/s]"
     ]
    },
    {
     "name": "stdout",
     "output_type": "stream",
     "text": [
      "empty/short line: 692717\n"
     ]
    },
    {
     "name": "stderr",
     "output_type": "stream",
     "text": [
      " 96%|#########6| 710496/739351 [10:08<00:21, 1331.44it/s]"
     ]
    },
    {
     "name": "stdout",
     "output_type": "stream",
     "text": [
      "empty/short line: 710543\n"
     ]
    },
    {
     "name": "stderr",
     "output_type": "stream",
     "text": [
      "100%|##########| 739351/739351 [10:30<00:00, 1173.38it/s]\n"
     ]
    }
   ],
   "source": [
    "ar = []\n",
    "title_lists = []\n",
    "text_lists = []\n",
    "url_list = []\n",
    "for i in tqdm (range( len(news) ), ascii=True):\n",
    "\n",
    "#for i in range( len(news) ):\n",
    "    title = news.iloc[i].title\n",
    "    text = news.iloc[i].text\n",
    "    \n",
    "    # очистка строк\n",
    "    title = title.replace('\\xa0', ' ')\n",
    "    text = clean_str(text)\n",
    "    \n",
    "    # проверка на пустые строки - потом удалить\n",
    "    if (str(title) == 'nan') or (len(title) == 0):\n",
    "        title = 'empty title'\n",
    "    if (str(text) == 'nan') or (len(text) < 15):\n",
    "        ar.append(i)\n",
    "        #print (f'empty/short line: {i}')\n",
    "        continue    \n",
    "    \n",
    "    # разбиваем на слова\n",
    "    title_list = re.split(r' +', title)\n",
    "    text_list = re.split(r' +', text)\n",
    "    \n",
    "    # удаляем стоп слова\n",
    "    text_list = [token for token in text_list if not token in mystopwords]\n",
    "    title_lists.append(title_list)\n",
    "    text_lists.append(text_list)\n",
    "    url_list.append(news.iloc[i].url)\n",
    "    \n",
    "    news.iloc[i].title = title\n",
    "    news.iloc[i].text = text\n",
    "    \n",
    "# удалить записи с пустым полем text\n",
    "news.drop(ar, inplace=True)\n",
    "news.reset_index(inplace=True)"
   ]
  },
  {
   "cell_type": "code",
   "execution_count": null,
   "metadata": {},
   "outputs": [
    {
     "name": "stdout",
     "output_type": "stream",
     "text": [
      "<class 'pandas.core.frame.DataFrame'>\n",
      "RangeIndex: 738244 entries, 0 to 738243\n",
      "Data columns (total 6 columns):\n",
      "index    738244 non-null int64\n",
      "url      738244 non-null object\n",
      "title    738244 non-null object\n",
      "text     738244 non-null object\n",
      "topic    738041 non-null object\n",
      "tags     711730 non-null object\n",
      "dtypes: int64(1), object(5)\n",
      "memory usage: 33.8+ MB\n"
     ]
    }
   ],
   "source": [
    "news.info(verbose=True)"
   ]
  },
  {
   "cell_type": "code",
   "execution_count": null,
   "metadata": {},
   "outputs": [
    {
     "data": {
      "text/plain": [
       "738244"
      ]
     },
     "execution_count": 9,
     "metadata": {},
     "output_type": "execute_result"
    }
   ],
   "source": [
    "len(text_lists)"
   ]
  },
  {
   "cell_type": "code",
   "execution_count": null,
   "metadata": {},
   "outputs": [],
   "source": [
    "from pymorphy2 import MorphAnalyzer"
   ]
  },
  {
   "cell_type": "code",
   "execution_count": null,
   "metadata": {},
   "outputs": [
    {
     "name": "stderr",
     "output_type": "stream",
     "text": [
      " 28%|██▊       | 208794/738244 [1:02:56<3:09:14, 46.63it/s]"
     ]
    }
   ],
   "source": [
    "pm2 = MorphAnalyzer()\n",
    "\n",
    "for i in tqdm(range(len(title_lists))):\n",
    "    for j in range(len(text_lists[i])):\n",
    "        parse = pm2.parse(text_lists[i][j])\n",
    "        text_lists[i][j] = parse[0][2]     \n"
   ]
  },
  {
   "cell_type": "code",
   "execution_count": 20,
   "metadata": {},
   "outputs": [
    {
     "data": {
      "text/plain": [
       "['вицепремьер',\n",
       " 'социальный',\n",
       " 'вопрос',\n",
       " 'татьяна',\n",
       " 'голиков',\n",
       " 'рассказать',\n",
       " 'какой',\n",
       " 'регион',\n",
       " 'россия',\n",
       " 'зафиксировать',\n",
       " 'наиболее',\n",
       " 'высокий',\n",
       " 'смертность',\n",
       " 'рак',\n",
       " 'сообщать',\n",
       " 'риа',\n",
       " 'новость',\n",
       " 'слово',\n",
       " 'голиков',\n",
       " 'чаща',\n",
       " 'онкологический',\n",
       " 'заболевание',\n",
       " 'становиться',\n",
       " 'причина',\n",
       " 'смерть',\n",
       " 'псковский',\n",
       " 'тверская',\n",
       " 'тульский',\n",
       " 'орловский',\n",
       " 'область',\n",
       " 'севастополь',\n",
       " 'вицепремьер',\n",
       " 'напомнить',\n",
       " 'главное',\n",
       " 'фактор',\n",
       " 'смертность',\n",
       " 'россия',\n",
       " 'рак',\n",
       " 'болезнь',\n",
       " 'система',\n",
       " 'кровообращение',\n",
       " 'начало',\n",
       " 'год',\n",
       " 'стать',\n",
       " 'известно',\n",
       " 'смертность',\n",
       " 'онкологический',\n",
       " 'заболевание',\n",
       " 'среди',\n",
       " 'россиянин',\n",
       " 'снизиться',\n",
       " 'впервые',\n",
       " 'год',\n",
       " 'данные',\n",
       " 'росстат',\n",
       " 'год',\n",
       " 'рак',\n",
       " 'умереть',\n",
       " 'тысяча',\n",
       " 'человек',\n",
       " 'процент',\n",
       " 'маленький',\n",
       " 'год',\n",
       " 'ранее']"
      ]
     },
     "execution_count": 20,
     "metadata": {},
     "output_type": "execute_result"
    }
   ],
   "source": [
    "text_lists[0]"
   ]
  },
  {
   "cell_type": "code",
   "execution_count": null,
   "metadata": {},
   "outputs": [],
   "source": [
    "import pickle"
   ]
  },
  {
   "cell_type": "code",
   "execution_count": null,
   "metadata": {},
   "outputs": [],
   "source": [
    "with open('title_lists.dump', 'wb') as f:\n",
    "    pickle.dump(title_lists, f)"
   ]
  },
  {
   "cell_type": "code",
   "execution_count": null,
   "metadata": {},
   "outputs": [],
   "source": [
    "with open('text_lists.dump', 'wb') as f:\n",
    "    pickle.dump(text_lists, f)"
   ]
  },
  {
   "cell_type": "code",
   "execution_count": null,
   "metadata": {},
   "outputs": [],
   "source": [
    "with open('url_list.dump', 'wb') as f:\n",
    "    pickle.dump(url_list, f)"
   ]
  },
  {
   "cell_type": "code",
   "execution_count": null,
   "metadata": {},
   "outputs": [],
   "source": [
    "with open('news_cleaned.dump', 'wb') as f:\n",
    "    pickle.dump(news, f)"
   ]
  }
 ],
 "metadata": {
  "kernelspec": {
   "display_name": "Python 3",
   "language": "python",
   "name": "python3"
  },
  "language_info": {
   "codemirror_mode": {
    "name": "ipython",
    "version": 3
   },
   "file_extension": ".py",
   "mimetype": "text/x-python",
   "name": "python",
   "nbconvert_exporter": "python",
   "pygments_lexer": "ipython3",
   "version": "3.7.1"
  }
 },
 "nbformat": 4,
 "nbformat_minor": 2
}
