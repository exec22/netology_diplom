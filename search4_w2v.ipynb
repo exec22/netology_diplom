{
 "cells": [
  {
   "cell_type": "code",
   "execution_count": 3,
   "metadata": {},
   "outputs": [],
   "source": [
    "import numpy as np\n",
    "import pandas as pd\n",
    "import warnings\n",
    "\n",
    "from tqdm import tqdm\n",
    "import re\n",
    "\n",
    "import pickle\n",
    "from gensim.models import Word2Vec\n",
    "from pymorphy2 import MorphAnalyzer"
   ]
  },
  {
   "cell_type": "code",
   "execution_count": 4,
   "metadata": {},
   "outputs": [],
   "source": [
    "model = Word2Vec.load(\"news_w2v_s300w5.model\")\n",
    "with open('title_lists.dump', 'rb') as f:\n",
    "    title_lists = pickle.load(f)\n",
    "with open('text_lists.dump', 'rb') as f:\n",
    "    text_lists = pickle.load(f)\n",
    "with open('url_list.dump', 'rb') as f:\n",
    "    url_list = pickle.load(f)    "
   ]
  },
  {
   "cell_type": "code",
   "execution_count": 5,
   "metadata": {},
   "outputs": [
    {
     "data": {
      "text/plain": [
       "[('спальня', 0.6677713990211487),\n",
       " ('помещение', 0.6666938662528992),\n",
       " ('кровать', 0.610233724117279),\n",
       " ('санузел', 0.5793996453285217),\n",
       " ('кабинка', 0.5770162343978882),\n",
       " ('шкаф', 0.5765670537948608),\n",
       " ('квартира', 0.5565792322158813),\n",
       " ('подвал', 0.5554600358009338),\n",
       " ('каюта', 0.5552490949630737),\n",
       " ('туалет', 0.5545444488525391)]"
      ]
     },
     "execution_count": 5,
     "metadata": {},
     "output_type": "execute_result"
    }
   ],
   "source": [
    "model.wv.most_similar('комната')"
   ]
  },
  {
   "cell_type": "code",
   "execution_count": 6,
   "metadata": {},
   "outputs": [],
   "source": [
    "def get_date_from_url(url):\n",
    "    return url[22:32]"
   ]
  },
  {
   "cell_type": "code",
   "execution_count": 7,
   "metadata": {},
   "outputs": [],
   "source": [
    "strings_list = [' '.join(tokens) for tokens in title_lists]"
   ]
  },
  {
   "cell_type": "code",
   "execution_count": 23,
   "metadata": {},
   "outputs": [],
   "source": [
    "search_words = 'хакерский закон'"
   ]
  },
  {
   "cell_type": "code",
   "execution_count": 24,
   "metadata": {},
   "outputs": [
    {
     "data": {
      "text/plain": [
       "[['хакерский', 'хакер'],\n",
       " ['закон', 'законодательство', 'законопроект', 'конституция']]"
      ]
     },
     "execution_count": 24,
     "metadata": {},
     "output_type": "execute_result"
    }
   ],
   "source": [
    "search_words_list = []\n",
    "pm2 = MorphAnalyzer()\n",
    "for word in re.split(r' +', search_words):\n",
    "    words = []\n",
    "    parse = pm2.parse(word)\n",
    "    words.append(parse[0][2])\n",
    "    for word_similar in model.wv.most_similar(word):\n",
    "        # добавляем похожие слова для проверки\n",
    "        if word_similar[1] > 0.7:\n",
    "            words.append(word_similar[0])\n",
    "        else: \n",
    "            break\n",
    "    search_words_list.append(words)\n",
    "\n",
    "search_words_list"
   ]
  },
  {
   "cell_type": "code",
   "execution_count": 25,
   "metadata": {},
   "outputs": [
    {
     "name": "stdout",
     "output_type": "stream",
     "text": [
      "2018/12/14 В России подготовятся на случай отключения от мирового интернета\n",
      "2018/12/14 Необходимость создания автономного российского интернета объяснили\n",
      "2018/11/30 Российских хакеров обвинили в атаке на немецкие власти\n",
      "2018/09/07 Раскрыта схема поимки виновника масштабного заражения компьютеров по всему миру\n",
      "2018/08/31 Россия обвинила спецслужбы США в утечке данных о деньгах посольства\n",
      "2018/08/16 Хакеры заподозрили Киев в планах отравить реку в Донбассе\n",
      "2018/08/06 Лидер «Шалтая-Болтая» вышел из тюрьмы\n",
      "2018/06/26 Украина обвинила Россию в подготовке масштабной кибератаки\n",
      "2018/04/23 Дуров предсказал утечку данных пользователей взяткодателям и хакерам\n",
      "2018/03/22 Порно на рекламном щите шокировало прохожих\n",
      "2018/03/04 Путин отказался выдавать США обвиненных во вмешательстве в американские выборы\n",
      "2018/03/03 Путин потребовал от США предоставить документы о «российском вмешательстве»\n",
      "2018/03/02 Путин отнес защиту российского интернета к гостайне\n",
      "2018/02/06 Минобороны пристыдило «Фонтанку» за публикацию данных убитого в Сирии пилота\n",
      "2017/12/29 Румын обвинили в подглядывании за Вашингтоном через камеры наблюдения\n",
      "2017/12/12 В черный список сценариев вошли ленты о нацистах, секс-роботах и русских хакерах\n",
      "2017/10/22 Сайты испанского правительства подверглись хакерской атаке\n",
      "2017/09/28 Личные данные пяти миллионов россиян попали на черный рынок\n",
      "2017/09/10 Клинтон назвала главную ошибку провальной президентской кампании\n",
      "2017/09/06 Два участника хакерской группировки «Шалтай-Болтай» получили по три года колонии\n",
      "2017/08/27 Контрразведка Германии заявила о высокой активности российских спецслужб\n",
      "2017/08/23 Адвокат Кристен Стюарт потребовал удалить ее интимные снимки с порносайтов\n",
      "2017/08/14 Кибермошенники похитили с банковских карточек россиян 650 миллионов рублей\n",
      "2017/07/29 Макфол назвал несправедливыми ответные меры Москвы на санкции США\n",
      "2017/07/27 Путин разрешил отправлять хакеров в колонию на десять лет\n",
      "2017/07/10 В Белом доме заявили о поддержке законопроекта о санкциях против России и Ирана\n",
      "2017/06/29 В США потребовали запретить военным пользоваться ПО «Лаборатории Касперского»\n",
      "2017/06/26 Дуров обвинил ФСБ в спекуляции на теме теракта в Петербурге\n",
      "2017/05/17 Демократы в Конгрессе призвали к импичменту Трампа\n",
      "2017/05/15 В ЦИК исключили возможность взлома обеспечивающей выборы системы\n"
     ]
    }
   ],
   "source": [
    "nnews = 30 # first 10 news\n",
    "founded = []\n",
    "for i in range(len(text_lists)):\n",
    "    found = 0\n",
    "    for word_item in search_words_list:\n",
    "        for word in word_item:\n",
    "            if word in text_lists[i]:\n",
    "                found = found + 1\n",
    "                break\n",
    "    # все слова есть в тексте\n",
    "    if found == len(search_words_list):\n",
    "        #dat = get_date_from_url( news['url'][i])\n",
    "        dat = get_date_from_url( url_list[i])\n",
    "        #line = f\"{i} {dat} {strings_list[i]}\"\n",
    "        line = f\"{dat} {strings_list[i]}\"\n",
    "        founded.append(line)\n",
    "        if nnews > 0:\n",
    "            nnews = nnews-1\n",
    "            print (line)"
   ]
  },
  {
   "cell_type": "code",
   "execution_count": 11,
   "metadata": {},
   "outputs": [
    {
     "data": {
      "text/plain": [
       "313"
      ]
     },
     "execution_count": 11,
     "metadata": {},
     "output_type": "execute_result"
    }
   ],
   "source": [
    "len(founded)"
   ]
  },
  {
   "cell_type": "code",
   "execution_count": 10,
   "metadata": {},
   "outputs": [
    {
     "data": {
      "text/plain": [
       "[['хомяк'], ['кино']]"
      ]
     },
     "execution_count": 10,
     "metadata": {},
     "output_type": "execute_result"
    }
   ],
   "source": [
    "search_words_list = []\n",
    "pm2 = MorphAnalyzer()\n",
    "for word in re.split(r' +', search_words):\n",
    "#     words = []\n",
    "#     parse = pm2.parse(word)\n",
    "#     words.append(parse[0][2])\n",
    "#     for word_similar in model.wv.most_similar(word):\n",
    "#         # добавляем похожие слова для проверки\n",
    "#         if word_similar[1] > 0.7:\n",
    "#             words.append(word_similar[0])\n",
    "#         else: \n",
    "#             break\n",
    "    search_words_list.append([word])\n",
    "\n",
    "search_words_list"
   ]
  },
  {
   "cell_type": "code",
   "execution_count": 11,
   "metadata": {},
   "outputs": [],
   "source": [
    "model2 = Word2Vec.load(\"news_w2v_s100w4.model\")"
   ]
  },
  {
   "cell_type": "code",
   "execution_count": 12,
   "metadata": {},
   "outputs": [
    {
     "data": {
      "text/plain": [
       "[('поилка', 0.5541670322418213),\n",
       " ('загон', 0.5376696586608887),\n",
       " ('нектар', 0.5342545509338379),\n",
       " ('миска', 0.5234835147857666),\n",
       " ('грызун', 0.521248996257782),\n",
       " ('муравей', 0.5193538665771484),\n",
       " ('муравейник', 0.5185519456863403),\n",
       " ('лапка', 0.5155913829803467),\n",
       " ('икринка', 0.5115612745285034),\n",
       " ('экскремент', 0.5093114972114563)]"
      ]
     },
     "execution_count": 12,
     "metadata": {},
     "output_type": "execute_result"
    }
   ],
   "source": [
    "# сравнение моделей\n",
    "word = 'кормушка'\n",
    "model.wv.most_similar(word)"
   ]
  },
  {
   "cell_type": "code",
   "execution_count": 13,
   "metadata": {},
   "outputs": [
    {
     "data": {
      "text/plain": [
       "[('лапка', 0.7302446365356445),\n",
       " ('икринка', 0.7222169637680054),\n",
       " ('муравей', 0.7129148840904236),\n",
       " ('нектар', 0.7102651596069336),\n",
       " ('личинка', 0.7096772193908691),\n",
       " ('таракан', 0.702725887298584),\n",
       " ('скорлупа', 0.6959431171417236),\n",
       " ('поилка', 0.6938049793243408),\n",
       " ('грызун', 0.6915543079376221),\n",
       " ('головастик', 0.6863775253295898)]"
      ]
     },
     "execution_count": 13,
     "metadata": {},
     "output_type": "execute_result"
    }
   ],
   "source": [
    "model2.wv.most_similar(word)"
   ]
  }
 ],
 "metadata": {
  "kernelspec": {
   "display_name": "Python 3",
   "language": "python",
   "name": "python3"
  },
  "language_info": {
   "codemirror_mode": {
    "name": "ipython",
    "version": 3
   },
   "file_extension": ".py",
   "mimetype": "text/x-python",
   "name": "python",
   "nbconvert_exporter": "python",
   "pygments_lexer": "ipython3",
   "version": "3.7.1"
  }
 },
 "nbformat": 4,
 "nbformat_minor": 2
}
